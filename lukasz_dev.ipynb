{
 "cells": [
  {
   "cell_type": "code",
   "execution_count": 2,
   "metadata": {
    "collapsed": true
   },
   "outputs": [],
   "source": [
    "%matplotlib inline\n",
    "\n",
    "import pandas as pd\n",
    "import numpy as np\n",
    "import matplotlib.pyplot as plt"
   ]
  },
  {
   "cell_type": "code",
   "execution_count": 3,
   "metadata": {},
   "outputs": [
    {
     "name": "stdout",
     "output_type": "stream",
     "text": [
      "<class 'pandas.core.frame.DataFrame'>\n",
      "RangeIndex: 50081 entries, 0 to 50080\n",
      "Data columns (total 8 columns):\n",
      "Status       50081 non-null object\n",
      "FirstLine    50081 non-null int64\n",
      "Lon          50081 non-null float64\n",
      "Lines        50081 non-null object\n",
      "Time         50081 non-null object\n",
      "Lat          50081 non-null float64\n",
      "LowFloor     50081 non-null bool\n",
      "Brigade      50081 non-null int64\n",
      "dtypes: bool(1), float64(2), int64(2), object(3)\n",
      "memory usage: 2.7+ MB\n"
     ]
    }
   ],
   "source": [
    "data = pd.read_csv(\"2017_05_21.csv\",sep=\",\")\n",
    "data.info()"
   ]
  },
  {
   "cell_type": "code",
   "execution_count": 4,
   "metadata": {},
   "outputs": [
    {
     "data": {
      "text/html": [
       "<div>\n",
       "<style>\n",
       "    .dataframe thead tr:only-child th {\n",
       "        text-align: right;\n",
       "    }\n",
       "\n",
       "    .dataframe thead th {\n",
       "        text-align: left;\n",
       "    }\n",
       "\n",
       "    .dataframe tbody tr th {\n",
       "        vertical-align: top;\n",
       "    }\n",
       "</style>\n",
       "<table border=\"1\" class=\"dataframe\">\n",
       "  <thead>\n",
       "    <tr style=\"text-align: right;\">\n",
       "      <th></th>\n",
       "      <th>Status</th>\n",
       "      <th>FirstLine</th>\n",
       "      <th>Lon</th>\n",
       "      <th>Lines</th>\n",
       "      <th>Time</th>\n",
       "      <th>Lat</th>\n",
       "      <th>LowFloor</th>\n",
       "      <th>Brigade</th>\n",
       "    </tr>\n",
       "  </thead>\n",
       "  <tbody>\n",
       "    <tr>\n",
       "      <th>0</th>\n",
       "      <td>RUNNING</td>\n",
       "      <td>24</td>\n",
       "      <td>20.989759</td>\n",
       "      <td>24</td>\n",
       "      <td>2017-05-21T02:00:12</td>\n",
       "      <td>52.225021</td>\n",
       "      <td>False</td>\n",
       "      <td>31</td>\n",
       "    </tr>\n",
       "    <tr>\n",
       "      <th>1</th>\n",
       "      <td>RUNNING</td>\n",
       "      <td>24</td>\n",
       "      <td>21.119280</td>\n",
       "      <td>24</td>\n",
       "      <td>2017-05-21T02:00:15</td>\n",
       "      <td>52.238270</td>\n",
       "      <td>True</td>\n",
       "      <td>3</td>\n",
       "    </tr>\n",
       "    <tr>\n",
       "      <th>2</th>\n",
       "      <td>RUNNING</td>\n",
       "      <td>24</td>\n",
       "      <td>21.037380</td>\n",
       "      <td>24</td>\n",
       "      <td>2017-05-21T02:00:12</td>\n",
       "      <td>52.235146</td>\n",
       "      <td>True</td>\n",
       "      <td>33</td>\n",
       "    </tr>\n",
       "    <tr>\n",
       "      <th>3</th>\n",
       "      <td>RUNNING</td>\n",
       "      <td>24</td>\n",
       "      <td>20.979773</td>\n",
       "      <td>24</td>\n",
       "      <td>2017-05-21T02:00:12</td>\n",
       "      <td>52.236778</td>\n",
       "      <td>True</td>\n",
       "      <td>7</td>\n",
       "    </tr>\n",
       "    <tr>\n",
       "      <th>4</th>\n",
       "      <td>RUNNING</td>\n",
       "      <td>26</td>\n",
       "      <td>20.913418</td>\n",
       "      <td>26</td>\n",
       "      <td>2017-05-21T02:00:14</td>\n",
       "      <td>52.238289</td>\n",
       "      <td>True</td>\n",
       "      <td>31</td>\n",
       "    </tr>\n",
       "  </tbody>\n",
       "</table>\n",
       "</div>"
      ],
      "text/plain": [
       "    Status  FirstLine        Lon            Lines                 Time  \\\n",
       "0  RUNNING         24  20.989759  24               2017-05-21T02:00:12   \n",
       "1  RUNNING         24  21.119280  24               2017-05-21T02:00:15   \n",
       "2  RUNNING         24  21.037380  24               2017-05-21T02:00:12   \n",
       "3  RUNNING         24  20.979773  24               2017-05-21T02:00:12   \n",
       "4  RUNNING         26  20.913418  26               2017-05-21T02:00:14   \n",
       "\n",
       "         Lat  LowFloor  Brigade  \n",
       "0  52.225021     False       31  \n",
       "1  52.238270      True        3  \n",
       "2  52.235146      True       33  \n",
       "3  52.236778      True        7  \n",
       "4  52.238289      True       31  "
      ]
     },
     "execution_count": 4,
     "metadata": {},
     "output_type": "execute_result"
    }
   ],
   "source": [
    "data.head()"
   ]
  },
  {
   "cell_type": "code",
   "execution_count": 25,
   "metadata": {
    "collapsed": true
   },
   "outputs": [],
   "source": [
    "longlat17=data[data.columns[[2,5]]][data.FirstLine==17]\n",
    "longlat4=data[data.columns[[2,5]]][data.FirstLine==4]\n",
    "longlat15=data[data.columns[[2,5]]][data.FirstLine==6]\n"
   ]
  },
  {
   "cell_type": "code",
   "execution_count": 43,
   "metadata": {},
   "outputs": [
    {
     "data": {
      "text/plain": [
       "414      21.004446\n",
       "427      21.023594\n",
       "429      21.001341\n",
       "446      21.007330\n",
       "448      20.983542\n",
       "454      20.945990\n",
       "466      21.001436\n",
       "469      21.034208\n",
       "499      21.018156\n",
       "519      21.023939\n",
       "531      20.971899\n",
       "552      20.998716\n",
       "629      20.971930\n",
       "665      21.021299\n",
       "717      21.006126\n",
       "718      21.005518\n",
       "721      21.020960\n",
       "753      21.006989\n",
       "762      21.002577\n",
       "764      20.972612\n",
       "773      21.020565\n",
       "775      21.007589\n",
       "832      20.982079\n",
       "838      21.007227\n",
       "840      21.001980\n",
       "850      21.001879\n",
       "852      21.005653\n",
       "855      21.001749\n",
       "911      20.977018\n",
       "914      21.051239\n",
       "           ...    \n",
       "49572    21.014133\n",
       "49581    21.023050\n",
       "49591    21.002472\n",
       "49593    21.003611\n",
       "49597    21.002203\n",
       "49598    20.978968\n",
       "49646    20.957993\n",
       "49649    21.003555\n",
       "49698    20.994230\n",
       "49740    21.006960\n",
       "49749    21.002661\n",
       "49751    21.005653\n",
       "49760    21.001963\n",
       "49762    21.001783\n",
       "49803    20.985994\n",
       "49834    20.970549\n",
       "49837    21.034534\n",
       "49888    20.985487\n",
       "49891    20.999456\n",
       "49942    21.020098\n",
       "49943    21.001995\n",
       "49946    20.947580\n",
       "49989    21.010889\n",
       "49991    20.978542\n",
       "50015    20.993355\n",
       "50023    21.002380\n",
       "50025    20.997606\n",
       "50034    20.956486\n",
       "50036    20.972382\n",
       "50051    21.004984\n",
       "Name: Lon, Length: 2985, dtype: float64"
      ]
     },
     "execution_count": 43,
     "metadata": {},
     "output_type": "execute_result"
    }
   ],
   "source": [
    "longlat17.Lon.sort_values()\n",
    "longlat17WA = longlat17.Lon[~((longlat17.Lon-longlat17.Lon.mean()).abs()>3*longlat17.Lon.std())]\n",
    "longlat17WA"
   ]
  },
  {
   "cell_type": "code",
   "execution_count": 27,
   "metadata": {
    "scrolled": false
   },
   "outputs": [
    {
     "data": {
      "image/png": "[encoded data removed]",
      "text/plain": [
       "<matplotlib.figure.Figure at 0x14b55b28208>"
      ]
     },
     "metadata": {},
     "output_type": "display_data"
    }
   ],
   "source": [
    "plt.plot(longlat17.Lon.values,longlat17.Lat.values,'g',longlat4.Lon.values,longlat4.Lat.values,'b--',longlat15.Lon.values,longlat15.Lat.values,'r--')\n",
    "plt.show()"
   ]
  },
  {
   "cell_type": "code",
   "execution_count": 28,
   "metadata": {},
   "outputs": [
    {
     "data": {
      "image/png": "[encoded data removed]",
      "text/plain": [
       "<matplotlib.figure.Figure at 0x14b556da4e0>"
      ]
     },
     "metadata": {},
     "output_type": "display_data"
    }
   ],
   "source": [
    "plt.plot(longlat15.Lon.values,longlat15.Lat.values,'r--')\n",
    "plt.show()"
   ]
  },
  {
   "cell_type": "code",
   "execution_count": null,
   "metadata": {
    "collapsed": true
   },
   "outputs": [],
   "source": []
  }
 ],
 "metadata": {
  "kernelspec": {
   "display_name": "Python 3",
   "language": "python",
   "name": "python3"
  },
  "language_info": {
   "codemirror_mode": {
    "name": "ipython",
    "version": 3
   },
   "file_extension": ".py",
   "mimetype": "text/x-python",
   "name": "python",
   "nbconvert_exporter": "python",
   "pygments_lexer": "ipython3",
   "version": "3.5.3"
  }
 },
 "nbformat": 4,
 "nbformat_minor": 2
}
