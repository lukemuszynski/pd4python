{
 "cells": [
  {
   "cell_type": "code",
   "execution_count": 52,
   "metadata": {
    "collapsed": true
   },
   "outputs": [],
   "source": [
    "import pandas as pd\n",
    "import numpy as np\n",
    "import matplotlib.pyplot as plt\n",
    "import math\n",
    "%matplotlib inline"
   ]
  },
  {
   "cell_type": "code",
   "execution_count": 2,
   "metadata": {
    "collapsed": true
   },
   "outputs": [],
   "source": [
    "data = pd.read_csv(\"data_csv\\\\2017_05_18.csv\")\n",
    "data = data[(20.87 < data.Lon) & (data.Lon < 21.15) & (52.16 < data.Lat) & (data.Lat < 52.34)]"
   ]
  },
  {
   "cell_type": "code",
   "execution_count": 3,
   "metadata": {},
   "outputs": [
    {
     "data": {
      "text/html": [
       "<div>\n",
       "<table border=\"1\" class=\"dataframe\">\n",
       "  <thead>\n",
       "    <tr style=\"text-align: right;\">\n",
       "      <th></th>\n",
       "      <th>Status</th>\n",
       "      <th>FirstLine</th>\n",
       "      <th>Lon</th>\n",
       "      <th>Lines</th>\n",
       "      <th>Time</th>\n",
       "      <th>Lat</th>\n",
       "      <th>LowFloor</th>\n",
       "      <th>Brigade</th>\n",
       "    </tr>\n",
       "  </thead>\n",
       "  <tbody>\n",
       "    <tr>\n",
       "      <th>0</th>\n",
       "      <td>RUNNING</td>\n",
       "      <td>28</td>\n",
       "      <td>20.971098</td>\n",
       "      <td>28</td>\n",
       "      <td>2017-05-18T11:57:31</td>\n",
       "      <td>52.264481</td>\n",
       "      <td>False</td>\n",
       "      <td>11</td>\n",
       "    </tr>\n",
       "    <tr>\n",
       "      <th>1</th>\n",
       "      <td>RUNNING</td>\n",
       "      <td>22</td>\n",
       "      <td>21.084555</td>\n",
       "      <td>22</td>\n",
       "      <td>2017-05-18T11:57:32</td>\n",
       "      <td>52.244629</td>\n",
       "      <td>False</td>\n",
       "      <td>1</td>\n",
       "    </tr>\n",
       "    <tr>\n",
       "      <th>2</th>\n",
       "      <td>RUNNING</td>\n",
       "      <td>22</td>\n",
       "      <td>20.977781</td>\n",
       "      <td>22</td>\n",
       "      <td>2017-05-18T11:57:02</td>\n",
       "      <td>52.262615</td>\n",
       "      <td>False</td>\n",
       "      <td>8</td>\n",
       "    </tr>\n",
       "    <tr>\n",
       "      <th>3</th>\n",
       "      <td>RUNNING</td>\n",
       "      <td>4</td>\n",
       "      <td>21.012976</td>\n",
       "      <td>4</td>\n",
       "      <td>2017-05-18T11:57:31</td>\n",
       "      <td>52.311100</td>\n",
       "      <td>False</td>\n",
       "      <td>7</td>\n",
       "    </tr>\n",
       "    <tr>\n",
       "      <th>4</th>\n",
       "      <td>RUNNING</td>\n",
       "      <td>35</td>\n",
       "      <td>21.024283</td>\n",
       "      <td>35</td>\n",
       "      <td>2017-05-18T11:57:37</td>\n",
       "      <td>52.196407</td>\n",
       "      <td>False</td>\n",
       "      <td>8</td>\n",
       "    </tr>\n",
       "  </tbody>\n",
       "</table>\n",
       "</div>"
      ],
      "text/plain": [
       "    Status  FirstLine        Lon            Lines                 Time  \\\n",
       "0  RUNNING         28  20.971098  28               2017-05-18T11:57:31   \n",
       "1  RUNNING         22  21.084555  22               2017-05-18T11:57:32   \n",
       "2  RUNNING         22  20.977781  22               2017-05-18T11:57:02   \n",
       "3  RUNNING          4  21.012976  4                2017-05-18T11:57:31   \n",
       "4  RUNNING         35  21.024283  35               2017-05-18T11:57:37   \n",
       "\n",
       "         Lat LowFloor Brigade  \n",
       "0  52.264481    False    11    \n",
       "1  52.244629    False    1     \n",
       "2  52.262615    False    8     \n",
       "3  52.311100    False    7     \n",
       "4  52.196407    False    8     "
      ]
     },
     "execution_count": 3,
     "metadata": {},
     "output_type": "execute_result"
    }
   ],
   "source": [
    "data.head()"
   ]
  },
  {
   "cell_type": "code",
   "execution_count": 4,
   "metadata": {
    "collapsed": true
   },
   "outputs": [],
   "source": [
    "data17 = data[data.FirstLine==17]"
   ]
  },
  {
   "cell_type": "code",
   "execution_count": 5,
   "metadata": {
    "collapsed": true
   },
   "outputs": [],
   "source": [
    "data17Lon = data17[np.abs(data17.Lon-data17.Lon.mean())<3*data17.Lon.std()]\n",
    "data17LonLat = data17Lon[np.abs(data17Lon.Lat-data17Lon.Lat.mean())<3*data17Lon.Lat.std()]"
   ]
  },
  {
   "cell_type": "code",
   "execution_count": 6,
   "metadata": {},
   "outputs": [
    {
     "data": {
      "text/html": [
       "<div>\n",
       "<table border=\"1\" class=\"dataframe\">\n",
       "  <thead>\n",
       "    <tr style=\"text-align: right;\">\n",
       "      <th></th>\n",
       "      <th>Status</th>\n",
       "      <th>FirstLine</th>\n",
       "      <th>Lon</th>\n",
       "      <th>Lines</th>\n",
       "      <th>Time</th>\n",
       "      <th>Lat</th>\n",
       "      <th>LowFloor</th>\n",
       "      <th>Brigade</th>\n",
       "    </tr>\n",
       "  </thead>\n",
       "  <tbody>\n",
       "    <tr>\n",
       "      <th>79</th>\n",
       "      <td>RUNNING</td>\n",
       "      <td>17</td>\n",
       "      <td>21.004986</td>\n",
       "      <td>17</td>\n",
       "      <td>2017-05-18T11:57:40</td>\n",
       "      <td>52.220673</td>\n",
       "      <td>True</td>\n",
       "      <td>34</td>\n",
       "    </tr>\n",
       "    <tr>\n",
       "      <th>84</th>\n",
       "      <td>RUNNING</td>\n",
       "      <td>17</td>\n",
       "      <td>21.003632</td>\n",
       "      <td>17</td>\n",
       "      <td>2017-05-18T11:57:40</td>\n",
       "      <td>52.188686</td>\n",
       "      <td>True</td>\n",
       "      <td>32</td>\n",
       "    </tr>\n",
       "    <tr>\n",
       "      <th>97</th>\n",
       "      <td>RUNNING</td>\n",
       "      <td>17</td>\n",
       "      <td>21.007894</td>\n",
       "      <td>17</td>\n",
       "      <td>2017-05-18T11:57:39</td>\n",
       "      <td>52.208466</td>\n",
       "      <td>True</td>\n",
       "      <td>40</td>\n",
       "    </tr>\n",
       "    <tr>\n",
       "      <th>113</th>\n",
       "      <td>RUNNING</td>\n",
       "      <td>17</td>\n",
       "      <td>20.977528</td>\n",
       "      <td>17,18</td>\n",
       "      <td>2017-05-18T11:57:40</td>\n",
       "      <td>52.265800</td>\n",
       "      <td>True</td>\n",
       "      <td>14</td>\n",
       "    </tr>\n",
       "    <tr>\n",
       "      <th>118</th>\n",
       "      <td>RUNNING</td>\n",
       "      <td>17</td>\n",
       "      <td>21.020071</td>\n",
       "      <td>17,18</td>\n",
       "      <td>2017-05-18T11:57:39</td>\n",
       "      <td>52.266563</td>\n",
       "      <td>True</td>\n",
       "      <td>5</td>\n",
       "    </tr>\n",
       "  </tbody>\n",
       "</table>\n",
       "</div>"
      ],
      "text/plain": [
       "      Status  FirstLine        Lon            Lines                 Time  \\\n",
       "79   RUNNING         17  21.004986  17               2017-05-18T11:57:40   \n",
       "84   RUNNING         17  21.003632  17               2017-05-18T11:57:40   \n",
       "97   RUNNING         17  21.007894  17               2017-05-18T11:57:39   \n",
       "113  RUNNING         17  20.977528  17,18            2017-05-18T11:57:40   \n",
       "118  RUNNING         17  21.020071  17,18            2017-05-18T11:57:39   \n",
       "\n",
       "           Lat LowFloor Brigade  \n",
       "79   52.220673     True    34    \n",
       "84   52.188686     True    32    \n",
       "97   52.208466     True    40    \n",
       "113  52.265800     True    14    \n",
       "118  52.266563     True    5     "
      ]
     },
     "execution_count": 6,
     "metadata": {},
     "output_type": "execute_result"
    }
   ],
   "source": [
    "data17LonLat.head()"
   ]
  },
  {
   "cell_type": "code",
   "execution_count": 7,
   "metadata": {},
   "outputs": [
    {
     "name": "stdout",
     "output_type": "stream",
     "text": [
      "20.9340782 21.0245972\n",
      "52.186821 52.3245163\n"
     ]
    }
   ],
   "source": [
    "print(min(data17LonLat.Lon),max(data17LonLat.Lon))\n",
    "print(min(data17LonLat.Lat),max(data17LonLat.Lat))"
   ]
  },
  {
   "cell_type": "code",
   "execution_count": 8,
   "metadata": {
    "collapsed": true
   },
   "outputs": [],
   "source": [
    "interpolatedX = np.linspace(min(data17LonLat.Lon), max(data17LonLat.Lon), 250)\n",
    "interpolatedY = np.interp(interpolatedX,data17LonLat.Lon,data17LonLat.Lat)"
   ]
  },
  {
   "cell_type": "code",
   "execution_count": 9,
   "metadata": {},
   "outputs": [
    {
     "data": {
      "image/png": "[encoded data removed]",
      "text/plain": [
       "<matplotlib.figure.Figure at 0x2830e4c8588>"
      ]
     },
     "metadata": {},
     "output_type": "display_data"
    }
   ],
   "source": [
    "plt.plot( data17LonLat.Lon,data17LonLat.Lat, 'r.')\n",
    "plt.show()"
   ]
  },
  {
   "cell_type": "code",
   "execution_count": 30,
   "metadata": {},
   "outputs": [],
   "source": [
    "lines = data.FirstLine.unique().tolist()\n",
    "lines.sort()"
   ]
  },
  {
   "cell_type": "code",
   "execution_count": 11,
   "metadata": {
    "collapsed": true
   },
   "outputs": [],
   "source": [
    "arrayWithData = list()\n",
    "for line in lines:\n",
    "    dataTemp = data[data.FirstLine==line]\n",
    "    dataTempLon = dataTemp[np.abs(dataTemp.Lon-dataTemp.Lon.mean()) < 3*dataTemp.Lon.std()]\n",
    "    dataTempLonLat = dataTempLon[np.abs(dataTempLon.Lat-dataTempLon.Lat.mean()) < 3*dataTempLon.Lat.std()]\n",
    "    arrayWithData.append(dataTempLonLat)"
   ]
  },
  {
   "cell_type": "code",
   "execution_count": 12,
   "metadata": {
    "collapsed": true
   },
   "outputs": [],
   "source": [
    "arrayWithBrigades = list()\n",
    "for line in arrayWithData:\n",
    "    arrayWithBrigades.append(line.Brigade.unique())"
   ]
  },
  {
   "cell_type": "code",
   "execution_count": 13,
   "metadata": {},
   "outputs": [
    {
     "data": {
      "image/png": "[encoded data removed]",
      "text/plain": [
       "<matplotlib.figure.Figure at 0x2830edb89b0>"
      ]
     },
     "metadata": {},
     "output_type": "display_data"
    }
   ],
   "source": [
    "for oneLine in arrayWithData:\n",
    "    plt.plot( oneLine.Lon,oneLine.Lat, 'r.')\n",
    "\n",
    "plt.show()"
   ]
  },
  {
   "cell_type": "code",
   "execution_count": 14,
   "metadata": {
    "collapsed": true
   },
   "outputs": [],
   "source": [
    "brigade0line0=arrayWithData[0][arrayWithData[0].Brigade == arrayWithBrigades[0][0]]"
   ]
  },
  {
   "cell_type": "code",
   "execution_count": 15,
   "metadata": {},
   "outputs": [
    {
     "data": {
      "image/png": "[encoded data removed]",
      "text/plain": [
       "<matplotlib.figure.Figure at 0x2830fed73c8>"
      ]
     },
     "metadata": {},
     "output_type": "display_data"
    }
   ],
   "source": [
    "plt.plot(arrayWithData[0].Lon,arrayWithData[0].Lat,'b.')\n",
    "plt.plot( brigade0line0.Lon,brigade0line0.Lat, 'r.')\n",
    "plt.show()"
   ]
  },
  {
   "cell_type": "code",
   "execution_count": 16,
   "metadata": {
    "collapsed": true
   },
   "outputs": [],
   "source": [
    "class Budynek:\n",
    "    def __init__(self,points,name,height):\n",
    "        self.points = points\n",
    "        self.name = name\n",
    "        self.height = height\n",
    "    def __repr__ (self):\n",
    "        return (\"%s\" % self.name)"
   ]
  },
  {
   "cell_type": "code",
   "execution_count": 17,
   "metadata": {
    "collapsed": true
   },
   "outputs": [],
   "source": [
    "# http://www.ranker.com/list/warsaw-buildings-and-structures/reference\n",
    "# http://warszawa.naszemiasto.pl/artykul/zdjecia/kino-iluzjon,3484354,galop,16824932,t,id,tm,zid.html\n",
    "budynki = []\n",
    "belweder = Budynek([(52.2134507,21.0270352),(52.213505, 21.027662),(52.212808, 21.027807),(52.212749, 21.027201)],\"Belweder\",20)\n",
    "polin = Budynek([(52.250513, 20.993801),(52.249015, 20.995244),(52.248263, 20.991671),(52.248263, 20.991671)],\"POLIN\",20)\n",
    "muzeum_narodowe = Budynek([(52.231957, 21.023139),(52.232440, 21.025939)],\"muzeum narodowe\",20)\n",
    "stadion = Budynek([(52.239936, 21.043051),(52.241204, 21.046313),(52.238865, 21.048727),(52.237794, 21.045154)],\"Stadion Narodowy\",100)\n",
    "palack_brnaickich = Budynek([(52.247273, 21.011434),(52.246616, 21.011756)],\"Palac Branickich\",10)\n",
    "kosciol_karmelitan = Budynek([(52.243653, 21.015070),(52.243226, 21.015489),(52.243706, 21.016937),(52.244100, 21.016567)],\"Kosciol Karmelitan\",30)\n",
    "kosciol_z_loreto = Budynek([(52.256728, 21.027157),(52.256629, 21.028295),(52.256931, 21.027694)],\"Kosciol Matki Bozej Loretanskiej\",20)\n",
    "kosciol_zbawiciela = Budynek([(52.219443, 21.017953),(52.218989, 21.017919)],\"Kosciol Zbawiciela\",30)\n",
    "palac_pod_blacha = Budynek([(52.247186, 21.016465),(52.247038, 21.015430)],\"Palac pod blacha\",30)\n",
    "akademia_sztuk_pieknych = Budynek([(52.239114, 21.014792),(52.239249, 21.015499),(52.239676, 21.015209),(52.239614, 21.014662)],\"Akademia Sztuk Pieknych\",30)\n",
    "kosciol_sw_trojcy = Budynek([(52.238519, 21.011504)],\"Kosciol Sw Trojcy\",20)\n",
    "intercontinental = Budynek([(52.232474, 21.002064),(52.232255, 21.002855),(52.232143, 21.002340),(52.232577, 21.002726)],\"Intercontinental\",100)\n",
    "sanktuarium_matki_bozej_laskawej = Budynek([(52.248889, 21.013144)],\"sanktuarium_matki_bozej_laskawej\",30)\n",
    "palac_kazimierzowski = Budynek([(52.240876, 21.019828),(52.240314, 21.020166),(52.240452, 21.020740),(52.240987, 21.020289)],\"Palac Kazimierzowski\",20)\n",
    "palack_krasinskich = Budynek([(52.249539, 21.003281),(52.248872, 21.004048),(52.249082, 21.004483),(52.249660, 21.003791)],\"Palac Krasinskich\",20)\n",
    "krolikarnia = Budynek([(52.188995, 21.028308)],\"Krolikarnia\",20)\n",
    "palac_mostkowskich = Budynek([(52.246012, 20.999398),(52.246945, 20.998465)],\"palac mostkowskich\",20)\n",
    "palac_kultury = Budynek([(52.233842, 21.002691),(52.229045, 21.005674),(52.230064, 21.010631),(52.234959, 21.008399)],\"Palac Kultury i Nauki\",150)\n",
    "palac_pod_czterema_wiatrami = Budynek([(52.247116, 21.004102)],\"palac pod czterema wiatrami\",10)\n",
    "most_poniatowski = Budynek([(52.236406, 21.037507),(52.237194, 21.042807),(52.231664, 21.047626),(52.230941, 21.042562)],\"Most Poniatowski\",100)\n",
    "palac_potockich = Budynek([(52.242445, 21.013874)],\"Palac Potockich\",20)\n",
    "palac_prezydencki = Budynek([(52.242794, 21.015717)],\"Palac prezydencki\",20)\n",
    "warsaw_spire = Budynek([(52.232191, 20.984362)],\"Warsaw Spire\",150)\n",
    "prudential = Budynek([(52.235751, 21.012245),(52.235234, 21.012401),(52.235323, 21.013010),(52.235883, 21.012648)],\"Prudential\",80)\n",
    "palac_krolewski = Budynek([(52.247263, 21.014125),(52.247381, 21.015722),(52.248471, 21.015346),(52.248185, 21.013994)],\"Zamek krolewski\",50)\n",
    "palac_sapiechy=Budynek([(52.254322, 21.006735)],\"Palac Sapiechy\",20)\n",
    "kolumna_zygmunta = Budynek([(52.247210, 21.013386)],\"Kolumna Zygmunta III\",50)\n",
    "kosciol_sw_aleksandra = Budynek([(52.229028,21.0215386)],\"Kościół św. Aleksandra\",30)\n",
    "kosciol_sw_anny = Budynek([(52.246359, 21.013825),(52.245581, 21.014211),(52.245729, 21.015193),(52.246425, 21.014828)],\"Kosciol sw Anny\",60)\n",
    "kosciol_sw_basi = Budynek([(52.2264624,21.006351)],\"Parafia rzymskokatolicka sw. Barbary\",20)\n",
    "kosciol_sw_kazimierza = Budynek([(52.253134, 21.008788)],\"Kosciol Sakramentek pw. sw. Kazimierza\",20)\n",
    "kosciol_sw_marcina = Budynek([(52.248096, 21.012459)],\"Kosciol sw Marcina\",20)\n",
    "stara_prochownia = Budynek([(52.251956, 21.012003)],\"Stara prochowniak\",20)\n",
    "palac_staszica = Budynek([(52.237897, 21.017773),(52.237191, 21.017994),(52.237388, 21.019088),(52.238042, 21.018471)],\"Palac Staszica\",20)\n",
    "teatr_wielki = Budynek([(52.243487, 21.008999),(52.242613, 21.010796),(52.243158, 21.011998),(52.244367, 21.011172)],\"Teatr wielki\",20)\n",
    "palac_tyszkiewiczow = Budynek([(52.240727, 21.016403),(52.239856, 21.016954),(52.240066, 21.017941),(52.240986, 21.017367)],\"Palac Tyszkiewiczow\",30)\n",
    "kosciol_wizytanek = Budynek([(52.2412304,21.0160895)],\"Kosciol wizytanek\",15)\n",
    "warsaw_trade_tower = Budynek([(52.235380, 20.982433)],\"Warsaw Trade Tower\",150)\n",
    "palac_wilanowski = Budynek([(52.166400, 21.085851),(52.164097, 21.086175),(52.163893, 21.092312),(52.166862, 21.091679)],\"Palac Wilanowski\",30)\n",
    "biblioteka_zaluskich = Budynek([(52.245439, 21.007618)],\"Biblioteka Zaluskich\",20)\n",
    "zlota_44 = Budynek([(52.231150, 21.002624)],\"Zlota 44\",150)\n",
    "zlote_tarasy = Budynek([(52.230421, 21.000736),(52.229172, 21.001573),(52.229711, 21.004620),(52.231150, 21.003708)],\"Zlote tarasy\",40)\n",
    "zacheta = Budynek([(52.2392172,21.0100963)],\"Zacheta – Narodowa Galeria Sztuki\",20)\n",
    "cosmopolitan= Budynek([(52.235474, 21.001674)],\"Cosmopolitan\",150)\n",
    "gmach_pw = Budynek([(52.220274, 21.010554),(52.220307, 21.009234),(52.221214, 21.009931)],\"Gmach glowny politechniki Warszawskiej\",30)\n",
    "buw = Budynek([(52.2424626,21.0231545)],\"Biblioteka UW\",20)\n",
    "bristol = Budynek([(52.242213, 21.015934)],\"Hotel Bristol\",20)\n",
    "\n",
    "\n",
    "budynki.extend([belweder,polin,muzeum_narodowe,stadion,palack_brnaickich,kosciol_karmelitan,kosciol_z_loreto,kosciol_zbawiciela,palac_pod_blacha,akademia_sztuk_pieknych])\n",
    "budynki.extend([kosciol_sw_trojcy,intercontinental,sanktuarium_matki_bozej_laskawej,palac_kazimierzowski])\n",
    "budynki.extend([palack_krasinskich,krolikarnia,palac_mostkowskich,palac_kultury,palac_pod_czterema_wiatrami,most_poniatowski])\n",
    "budynki.extend([palac_potockich,palac_prezydencki,warsaw_spire,prudential,palac_krolewski,palac_sapiechy,kolumna_zygmunta,kosciol_sw_aleksandra])\n",
    "budynki.extend([kosciol_sw_anny,kosciol_sw_basi,kosciol_sw_kazimierza,kosciol_sw_marcina,stara_prochownia,palac_staszica])\n",
    "budynki.extend([teatr_wielki,palac_tyszkiewiczow,kosciol_wizytanek,warsaw_trade_tower,palac_wilanowski,biblioteka_zaluskich])\n",
    "budynki.extend([zlota_44,zlote_tarasy,zacheta,cosmopolitan,gmach_pw,buw,bristol])"
   ]
  },
  {
   "cell_type": "code",
   "execution_count": 18,
   "metadata": {},
   "outputs": [
    {
     "data": {
      "text/plain": [
       "[Belweder,\n",
       " POLIN,\n",
       " muzeum narodowe,\n",
       " Stadion Narodowy,\n",
       " Palac Branickich,\n",
       " Kosciol Karmelitan,\n",
       " Kosciol Matki Bozej Loretanskiej,\n",
       " Kosciol Zbawiciela,\n",
       " Palac pod blacha,\n",
       " Akademia Sztuk Pieknych,\n",
       " Kosciol Sw Trojcy,\n",
       " Intercontinental,\n",
       " sanktuarium_matki_bozej_laskawej,\n",
       " Palac Kazimierzowski,\n",
       " Palac Krasinskich,\n",
       " Krolikarnia,\n",
       " palac mostkowskich,\n",
       " Palac Kultury i Nauki,\n",
       " palac pod czterema wiatrami,\n",
       " Most Poniatowski,\n",
       " Palac Potockich,\n",
       " Palac prezydencki,\n",
       " Warsaw Spire,\n",
       " Prudential,\n",
       " Zamek krolewski,\n",
       " Palac Sapiechy,\n",
       " Kolumna Zygmunta III,\n",
       " Kościół św. Aleksandra,\n",
       " Kosciol sw Anny,\n",
       " Parafia rzymskokatolicka sw. Barbary,\n",
       " Kosciol Sakramentek pw. sw. Kazimierza,\n",
       " Kosciol sw Marcina,\n",
       " Stara prochowniak,\n",
       " Palac Staszica,\n",
       " Teatr wielki,\n",
       " Palac Tyszkiewiczow,\n",
       " Kosciol wizytanek,\n",
       " Warsaw Trade Tower,\n",
       " Palac Wilanowski,\n",
       " Biblioteka Zaluskich,\n",
       " Zlota 44,\n",
       " Zlote tarasy,\n",
       " Zacheta – Narodowa Galeria Sztuki,\n",
       " Cosmopolitan,\n",
       " Gmach glowny politechniki Warszawskiej,\n",
       " Biblioteka UW,\n",
       " Hotel Bristol]"
      ]
     },
     "execution_count": 18,
     "metadata": {},
     "output_type": "execute_result"
    }
   ],
   "source": [
    "budynki"
   ]
  },
  {
   "cell_type": "code",
   "execution_count": 19,
   "metadata": {},
   "outputs": [
    {
     "data": {
      "image/png": "[encoded data removed]",
      "text/plain": [
       "<matplotlib.figure.Figure at 0x2830fea1b00>"
      ]
     },
     "metadata": {},
     "output_type": "display_data"
    }
   ],
   "source": [
    "for oneLine in arrayWithData:\n",
    "    plt.plot( oneLine.Lon,oneLine.Lat, 'r.')\n",
    "\n",
    "for budynek in budynki:\n",
    "    plt.plot(budynek.points[0][1],budynek.points[0][0],'co')\n",
    "\n",
    "plt.show()"
   ]
  },
  {
   "cell_type": "code",
   "execution_count": 20,
   "metadata": {
    "collapsed": true
   },
   "outputs": [],
   "source": [
    "def CountDistance(lat1, lng1, lat2, lng2):\n",
    "    earthRadius = 6371000.0;\n",
    "    \n",
    "    dLat = math.radians(lat2-lat1)\n",
    "    dLng = math.radians(lng2-lng1)\n",
    "    a = math.sin(dLat/2) * math.sin(dLat/2) + math.cos(math.radians(lat1)) * math.cos(math.radians(lat2)) * math.sin(dLng/2) * math.sin(dLng/2)\n",
    "    c = 2 * math.atan2(math.sqrt(a), math.sqrt(1-a))\n",
    "    dist = (earthRadius * c)\n",
    "    \n",
    "    return dist "
   ]
  },
  {
   "cell_type": "code",
   "execution_count": 62,
   "metadata": {
    "collapsed": true
   },
   "outputs": [],
   "source": [
    "def coorDiff(dist):\n",
    "    mpd_lat = 111271.67312454112\n",
    "    mpd_lon = 68325.95947109786\n",
    "    return dist/mpd_lat, dist/mpd_lon"
   ]
  },
  {
   "cell_type": "code",
   "execution_count": 73,
   "metadata": {},
   "outputs": [],
   "source": [
    "nearBuildings = {}\n",
    "dist = 300\n",
    "coorDelta = coorDiff(dist)\n",
    "for oneLine in arrayWithData:\n",
    "    pointsCounter = 0\n",
    "    for budynek in budynki:\n",
    "        visited = False\n",
    "        for point in budynek.points:\n",
    "            for index, position in oneLine.loc[(oneLine.Lat >= point[0] - coorDelta[0]) &\\\n",
    "                                              (oneLine.Lat <= point[0] + coorDelta[0]) &\\\n",
    "                                              (oneLine.Lon >= point[1] - coorDelta[1]) &\\\n",
    "                                              (oneLine.Lon <= point[1] + coorDelta[1])].iterrows():\n",
    "                if CountDistance(position.Lat, position.Lon, point[0], point[1]) < dist:\n",
    "                    visited = True\n",
    "                    break\n",
    "            if visited:\n",
    "                break\n",
    "        if visited:\n",
    "            pointsCounter += 1\n",
    "            continue\n",
    "    nearBuildings[oneLine.iloc[0].FirstLine] = pointsCounter"
   ]
  },
  {
   "cell_type": "code",
   "execution_count": 74,
   "metadata": {},
   "outputs": [
    {
     "data": {
      "text/plain": [
       "{1: 10,\n",
       " 2: 0,\n",
       " 3: 0,\n",
       " 4: 20,\n",
       " 6: 1,\n",
       " 7: 7,\n",
       " 9: 10,\n",
       " 10: 11,\n",
       " 11: 1,\n",
       " 13: 12,\n",
       " 14: 5,\n",
       " 15: 9,\n",
       " 17: 14,\n",
       " 18: 13,\n",
       " 20: 13,\n",
       " 22: 18,\n",
       " 23: 12,\n",
       " 24: 10,\n",
       " 25: 23,\n",
       " 26: 13,\n",
       " 27: 1,\n",
       " 28: 3,\n",
       " 31: 0,\n",
       " 33: 8,\n",
       " 35: 10,\n",
       " 44: 3}"
      ]
     },
     "execution_count": 74,
     "metadata": {},
     "output_type": "execute_result"
    }
   ],
   "source": [
    "nearBuildings"
   ]
  },
  {
   "cell_type": "code",
   "execution_count": null,
   "metadata": {
    "collapsed": true
   },
   "outputs": [],
   "source": []
  }
 ],
 "metadata": {
  "kernelspec": {
   "display_name": "Python 3",
   "language": "python",
   "name": "python3"
  },
  "language_info": {
   "codemirror_mode": {
    "name": "ipython",
    "version": 3
   },
   "file_extension": ".py",
   "mimetype": "text/x-python",
   "name": "python",
   "nbconvert_exporter": "python",
   "pygments_lexer": "ipython3",
   "version": "3.5.3"
  }
 },
 "nbformat": 4,
 "nbformat_minor": 2
}
