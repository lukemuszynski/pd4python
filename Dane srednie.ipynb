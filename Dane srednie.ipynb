{
 "cells": [
  {
   "cell_type": "code",
   "execution_count": 140,
   "metadata": {
    "collapsed": true
   },
   "outputs": [],
   "source": [
    "import pandas as pd\n",
    "import numpy as np\n",
    "#%matplotlib nbagg\n",
    "import matplotlib.pyplot as plt\n",
    "from datetime import datetime"
   ]
  },
  {
   "cell_type": "code",
   "execution_count": 2,
   "metadata": {},
   "outputs": [],
   "source": [
    "df = pd.DataFrame()\n",
    "path = \"data_csv\\\\2017_05_\"\n",
    "csv = \".csv\"\n",
    "for num in range(14,30):\n",
    "    tempPath = path+str(num)+csv\n",
    "    #print(tempPath)\n",
    "    df = pd.concat([df,pd.read_csv(tempPath,low_memory=False)])"
   ]
  },
  {
   "cell_type": "code",
   "execution_count": 3,
   "metadata": {},
   "outputs": [
    {
     "name": "stdout",
     "output_type": "stream",
     "text": [
      "<class 'pandas.core.frame.DataFrame'>\n",
      "Int64Index: 1197052 entries, 0 to 91093\n",
      "Data columns (total 8 columns):\n",
      "Status       1197052 non-null object\n",
      "FirstLine    1197052 non-null object\n",
      "Lon          1197052 non-null float64\n",
      "Lines        1197052 non-null object\n",
      "Time         1197052 non-null object\n",
      "Lat          1197052 non-null float64\n",
      "LowFloor     1197052 non-null bool\n",
      "Brigade      1197052 non-null object\n",
      "dtypes: bool(1), float64(2), object(5)\n",
      "memory usage: 74.2+ MB\n"
     ]
    }
   ],
   "source": [
    "df.info()"
   ]
  },
  {
   "cell_type": "code",
   "execution_count": 4,
   "metadata": {
    "collapsed": true
   },
   "outputs": [],
   "source": [
    "lines=[1, 2, 3, 4, 6, 7, 9, 10, 11, 13, 14, 15, 17, 18, 20, 22, 23, 24, 25, 26, 27, 28, 31, 33, 35, 44]\n",
    "data = df\n",
    "arrayWithData = list()\n",
    "for line in lines:\n",
    "    dataTemp = data[data.FirstLine==line]\n",
    "    dataTempLon = dataTemp[np.abs(dataTemp.Lon-dataTemp.Lon.mean())<3*dataTemp.Lon.std()]\n",
    "    dataTempLonLat = dataTempLon[np.abs(dataTempLon.Lat-dataTempLon.Lat.mean())<3*dataTempLon.Lat.std()]\n",
    "    arrayWithData.append(dataTempLonLat)\n"
   ]
  },
  {
   "cell_type": "code",
   "execution_count": 5,
   "metadata": {},
   "outputs": [],
   "source": [
    "counterLine = []\n",
    "counterNumber = []\n",
    "for line in arrayWithData:\n",
    "    counterLine.append(line.iloc[0].FirstLine)\n",
    "    counterNumber.append(line.FirstLine.count())\n"
   ]
  },
  {
   "cell_type": "code",
   "execution_count": 6,
   "metadata": {},
   "outputs": [
    {
     "data": {
      "image/png": "[encoded data removed]",
      "text/plain": [
       "<matplotlib.figure.Figure at 0x13a023105c0>"
      ]
     },
     "metadata": {},
     "output_type": "display_data"
    }
   ],
   "source": [
    "ind = np.arange(len(lines))  # the x locations for the groups\n",
    "width = 0.5       # the width of the bars\n",
    "fig, ax = plt.subplots()\n",
    "rects1 = ax.bar(ind, counterNumber, width, color='r')\n",
    "lineStr = tuple(map(lambda x: str(x), lines))\n",
    "ax.set_xticklabels(lineStr)\n",
    "ax.set_ylabel('Ilość pomiarów')\n",
    "ax.set_title('Ilość pomiarów w zależności linii tramwajowej w okresie 14-29.05')\n",
    "ax.set_xticks(ind)\n",
    "plt.show()"
   ]
  },
  {
   "cell_type": "code",
   "execution_count": 7,
   "metadata": {},
   "outputs": [
    {
     "data": {
      "text/plain": [
       "'2017-05-14T20:35:37'"
      ]
     },
     "execution_count": 7,
     "metadata": {},
     "output_type": "execute_result"
    }
   ],
   "source": [
    "data.Time.iloc[0]"
   ]
  },
  {
   "cell_type": "code",
   "execution_count": 8,
   "metadata": {},
   "outputs": [
    {
     "data": {
      "text/plain": [
       "'2017-05-14'"
      ]
     },
     "execution_count": 8,
     "metadata": {},
     "output_type": "execute_result"
    }
   ],
   "source": [
    "str(datetime.strptime(data.Time.iloc[0],\"%Y-%m-%dT%H:%M:%S\").date())"
   ]
  },
  {
   "cell_type": "code",
   "execution_count": 9,
   "metadata": {},
   "outputs": [],
   "source": [
    "datesSeries = pd.Series(map(lambda x: str(datetime.strptime(x,\"%Y-%m-%dT%H:%M:%S\").date()),data.Time))\n",
    "dayofweekSeries = pd.Series(map(lambda x: datetime.strptime(x,\"%Y-%m-%dT%H:%M:%S\").isoweekday(),data.Time))"
   ]
  },
  {
   "cell_type": "code",
   "execution_count": 10,
   "metadata": {},
   "outputs": [],
   "source": [
    "data = data.assign(Date=datesSeries.values)\n",
    "data = data.assign(DayOfWeek=dayofweekSeries.values)"
   ]
  },
  {
   "cell_type": "code",
   "execution_count": 11,
   "metadata": {},
   "outputs": [
    {
     "name": "stdout",
     "output_type": "stream",
     "text": [
      "<class 'pandas.core.frame.DataFrame'>\n",
      "Int64Index: 1197052 entries, 0 to 91093\n",
      "Data columns (total 10 columns):\n",
      "Status       1197052 non-null object\n",
      "FirstLine    1197052 non-null object\n",
      "Lon          1197052 non-null float64\n",
      "Lines        1197052 non-null object\n",
      "Time         1197052 non-null object\n",
      "Lat          1197052 non-null float64\n",
      "LowFloor     1197052 non-null bool\n",
      "Brigade      1197052 non-null object\n",
      "Date         1197052 non-null object\n",
      "DayOfWeek    1197052 non-null int64\n",
      "dtypes: bool(1), float64(2), int64(1), object(6)\n",
      "memory usage: 92.5+ MB\n"
     ]
    }
   ],
   "source": [
    "data.info()"
   ]
  },
  {
   "cell_type": "code",
   "execution_count": 12,
   "metadata": {},
   "outputs": [
    {
     "name": "stdout",
     "output_type": "stream",
     "text": [
      "<class 'pandas.core.frame.DataFrame'>\n",
      "Int64Index: 1196209 entries, 0 to 91093\n",
      "Data columns (total 10 columns):\n",
      "Status       1196209 non-null object\n",
      "FirstLine    1196209 non-null object\n",
      "Lon          1196209 non-null float64\n",
      "Lines        1196209 non-null object\n",
      "Time         1196209 non-null object\n",
      "Lat          1196209 non-null float64\n",
      "LowFloor     1196209 non-null bool\n",
      "Brigade      1196209 non-null object\n",
      "Date         1196209 non-null object\n",
      "DayOfWeek    1196209 non-null int64\n",
      "dtypes: bool(1), float64(2), int64(1), object(6)\n",
      "memory usage: 92.4+ MB\n"
     ]
    }
   ],
   "source": [
    "data = data.drop_duplicates()\n",
    "data.info()"
   ]
  },
  {
   "cell_type": "code",
   "execution_count": 13,
   "metadata": {},
   "outputs": [
    {
     "data": {
      "text/plain": [
       "('2017-05-14',\n",
       " '2017-05-15',\n",
       " '2017-05-16',\n",
       " '2017-05-17',\n",
       " '2017-05-18',\n",
       " '2017-05-19',\n",
       " '2017-05-20',\n",
       " '2017-05-21',\n",
       " '2017-05-22',\n",
       " '2017-05-23',\n",
       " '2017-05-24',\n",
       " '2017-05-25',\n",
       " '2017-05-26',\n",
       " '2017-05-27',\n",
       " '2017-05-28',\n",
       " '2017-05-29')"
      ]
     },
     "execution_count": 13,
     "metadata": {},
     "output_type": "execute_result"
    }
   ],
   "source": [
    "data_grouped = data.groupby(['Date']).size()\n",
    "data_grouped_dropped=data_grouped.drop(['2017-05-14', '2017-05-15'])\n",
    "unique_dates = data.Date.unique()\n",
    "tuple(unique_dates)"
   ]
  },
  {
   "cell_type": "code",
   "execution_count": 14,
   "metadata": {},
   "outputs": [
    {
     "data": {
      "text/plain": [
       "array(['2017-05-16', '2017-05-17', '2017-05-18', '2017-05-19',\n",
       "       '2017-05-20', '2017-05-21', '2017-05-22', '2017-05-23',\n",
       "       '2017-05-24', '2017-05-25', '2017-05-26', '2017-05-27',\n",
       "       '2017-05-28', '2017-05-29'], dtype=object)"
      ]
     },
     "execution_count": 14,
     "metadata": {},
     "output_type": "execute_result"
    }
   ],
   "source": [
    "\n",
    "dates = data_grouped_dropped.index.values\n",
    "counter_per_date = data_grouped_dropped.values\n",
    "unique_dates = unique_dates[2:]\n",
    "unique_dates"
   ]
  },
  {
   "cell_type": "code",
   "execution_count": 15,
   "metadata": {},
   "outputs": [
    {
     "data": {
      "image/png": "[encoded data removed]",
      "text/plain": [
       "<matplotlib.figure.Figure at 0x13a0239bfd0>"
      ]
     },
     "metadata": {},
     "output_type": "display_data"
    }
   ],
   "source": [
    "ind = np.arange(len(unique_dates))\n",
    "width = 0.5       # the width of the bars\n",
    "fig, ax = plt.subplots()\n",
    "rects1 = ax.bar(ind, counter_per_date, width, color='b')\n",
    "\n",
    "ax.set_xticklabels(tuple(unique_dates),rotation='vertical')\n",
    "ax.set_ylabel('Ilość pomiarów')\n",
    "ax.set_title('Ilość dokonanych pomiarów w dniach 14-29.05')\n",
    "ax.set_xticks(ind)\n",
    "plt.show()"
   ]
  },
  {
   "cell_type": "code",
   "execution_count": 16,
   "metadata": {},
   "outputs": [],
   "source": [
    "N = 7\n",
    "first_week = []\n",
    "first_week.append(counter_per_date[13])\n",
    "first_week.extend(list(counter_per_date[0:6]))\n",
    "first_week = tuple(first_week)\n",
    "second_week = list(counter_per_date[6:13])\n",
    "second_week = tuple(second_week)"
   ]
  },
  {
   "cell_type": "code",
   "execution_count": 17,
   "metadata": {},
   "outputs": [
    {
     "data": {
      "image/png": "[encoded data removed]",
      "text/plain": [
       "<matplotlib.figure.Figure at 0x13a0dfa5cf8>"
      ]
     },
     "metadata": {},
     "output_type": "display_data"
    }
   ],
   "source": [
    "                                   \n",
    "ind = np.arange(len(first_week))\n",
    "width = 0.35\n",
    "\n",
    "fig, ax = plt.subplots()\n",
    "rects1 = ax.bar(ind, first_week, width, color='b')\n",
    "\n",
    "\n",
    "rects2 = ax.bar(ind + width, second_week, width, color='g')\n",
    "\n",
    "# add some text for labels, title and axes ticks\n",
    "ax.set_ylabel('Ilość pomiarów')\n",
    "ax.set_title('Ilość pomiarów w danym dniu tygodnia')\n",
    "ax.set_xticks(ind + width / 2)\n",
    "ax.set_xticklabels(('Pn', 'Wt', 'Sr', 'Cz', 'Pt','Sb', 'Nd'))\n",
    "\n",
    "ax.legend((rects1[0], rects2[0]), ('1 tydzien', '2 tydzien'))\n",
    "\n",
    "\n",
    "\n",
    "#autolabel(rects1)\n",
    "#autolabel(rects2)\n",
    "\n",
    "plt.show()"
   ]
  },
  {
   "cell_type": "code",
   "execution_count": 18,
   "metadata": {
    "collapsed": true
   },
   "outputs": [],
   "source": [
    "timestamps = pd.Series(map(lambda x: datetime.strptime(x,\"%Y-%m-%dT%H:%M:%S\").timestamp(),data.Time))\n",
    "data = data.assign(Timestamp=timestamps.values)"
   ]
  },
  {
   "cell_type": "code",
   "execution_count": 19,
   "metadata": {},
   "outputs": [],
   "source": [
    "#wyciagnac dane po linii a potem po numerze taboru\n",
    "data_line_brigade = []\n",
    "\n",
    "for line in lines:\n",
    "    dataTemp = data[data.FirstLine==line]\n",
    "    #data_line_brigade.append(dataTemp)\n",
    "    unique_brigades = dataTemp.Brigade.unique()\n",
    "    for brigade in unique_brigades:\n",
    "        data_line_brigade.append(dataTemp[dataTemp.Brigade == brigade])\n"
   ]
  },
  {
   "cell_type": "code",
   "execution_count": 20,
   "metadata": {},
   "outputs": [
    {
     "data": {
      "text/html": [
       "<div>\n",
       "<style>\n",
       "    .dataframe thead tr:only-child th {\n",
       "        text-align: right;\n",
       "    }\n",
       "\n",
       "    .dataframe thead th {\n",
       "        text-align: left;\n",
       "    }\n",
       "\n",
       "    .dataframe tbody tr th {\n",
       "        vertical-align: top;\n",
       "    }\n",
       "</style>\n",
       "<table border=\"1\" class=\"dataframe\">\n",
       "  <thead>\n",
       "    <tr style=\"text-align: right;\">\n",
       "      <th></th>\n",
       "      <th>Status</th>\n",
       "      <th>FirstLine</th>\n",
       "      <th>Lon</th>\n",
       "      <th>Lines</th>\n",
       "      <th>Time</th>\n",
       "      <th>Lat</th>\n",
       "      <th>LowFloor</th>\n",
       "      <th>Brigade</th>\n",
       "      <th>Date</th>\n",
       "      <th>DayOfWeek</th>\n",
       "      <th>Timestamp</th>\n",
       "    </tr>\n",
       "  </thead>\n",
       "  <tbody>\n",
       "    <tr>\n",
       "      <th>17</th>\n",
       "      <td>RUNNING</td>\n",
       "      <td>1</td>\n",
       "      <td>21.021954</td>\n",
       "      <td>1</td>\n",
       "      <td>2017-05-14T20:35:37</td>\n",
       "      <td>52.298477</td>\n",
       "      <td>True</td>\n",
       "      <td>13</td>\n",
       "      <td>2017-05-14</td>\n",
       "      <td>7</td>\n",
       "      <td>1.494787e+09</td>\n",
       "    </tr>\n",
       "    <tr>\n",
       "      <th>176</th>\n",
       "      <td>RUNNING</td>\n",
       "      <td>1</td>\n",
       "      <td>21.021954</td>\n",
       "      <td>1</td>\n",
       "      <td>2017-05-14T20:38:46</td>\n",
       "      <td>52.298477</td>\n",
       "      <td>True</td>\n",
       "      <td>13</td>\n",
       "      <td>2017-05-14</td>\n",
       "      <td>7</td>\n",
       "      <td>1.494787e+09</td>\n",
       "    </tr>\n",
       "    <tr>\n",
       "      <th>378</th>\n",
       "      <td>RUNNING</td>\n",
       "      <td>1</td>\n",
       "      <td>21.021954</td>\n",
       "      <td>1</td>\n",
       "      <td>2017-05-14T20:41:44</td>\n",
       "      <td>52.298477</td>\n",
       "      <td>True</td>\n",
       "      <td>13</td>\n",
       "      <td>2017-05-14</td>\n",
       "      <td>7</td>\n",
       "      <td>1.494787e+09</td>\n",
       "    </tr>\n",
       "    <tr>\n",
       "      <th>547</th>\n",
       "      <td>RUNNING</td>\n",
       "      <td>1</td>\n",
       "      <td>21.021954</td>\n",
       "      <td>1</td>\n",
       "      <td>2017-05-14T20:44:22</td>\n",
       "      <td>52.298477</td>\n",
       "      <td>True</td>\n",
       "      <td>13</td>\n",
       "      <td>2017-05-14</td>\n",
       "      <td>7</td>\n",
       "      <td>1.494787e+09</td>\n",
       "    </tr>\n",
       "    <tr>\n",
       "      <th>650</th>\n",
       "      <td>RUNNING</td>\n",
       "      <td>1</td>\n",
       "      <td>21.026802</td>\n",
       "      <td>1</td>\n",
       "      <td>2017-05-14T20:47:36</td>\n",
       "      <td>52.293835</td>\n",
       "      <td>True</td>\n",
       "      <td>13</td>\n",
       "      <td>2017-05-14</td>\n",
       "      <td>7</td>\n",
       "      <td>1.494788e+09</td>\n",
       "    </tr>\n",
       "  </tbody>\n",
       "</table>\n",
       "</div>"
      ],
      "text/plain": [
       "      Status FirstLine        Lon            Lines                 Time  \\\n",
       "17   RUNNING         1  21.021954  1                2017-05-14T20:35:37   \n",
       "176  RUNNING         1  21.021954  1                2017-05-14T20:38:46   \n",
       "378  RUNNING         1  21.021954  1                2017-05-14T20:41:44   \n",
       "547  RUNNING         1  21.021954  1                2017-05-14T20:44:22   \n",
       "650  RUNNING         1  21.026802  1                2017-05-14T20:47:36   \n",
       "\n",
       "           Lat  LowFloor Brigade        Date  DayOfWeek     Timestamp  \n",
       "17   52.298477      True      13  2017-05-14          7  1.494787e+09  \n",
       "176  52.298477      True      13  2017-05-14          7  1.494787e+09  \n",
       "378  52.298477      True      13  2017-05-14          7  1.494787e+09  \n",
       "547  52.298477      True      13  2017-05-14          7  1.494787e+09  \n",
       "650  52.293835      True      13  2017-05-14          7  1.494788e+09  "
      ]
     },
     "execution_count": 20,
     "metadata": {},
     "output_type": "execute_result"
    }
   ],
   "source": [
    "for temp_df in data_line_brigade:\n",
    "    temp_df=temp_df.sort_values('Timestamp')\n",
    "data_line_brigade[0].head()"
   ]
  },
  {
   "cell_type": "code",
   "execution_count": 21,
   "metadata": {},
   "outputs": [],
   "source": [
    "import math\n",
    "def CountDistance(lat1, lng1, lat2, lng2):\n",
    "    earthRadius = 6371000.0;\n",
    "    \n",
    "    dLat = math.radians(lat2-lat1)\n",
    "    dLng = math.radians(lng2-lng1)\n",
    "    a = math.sin(dLat/2) * math.sin(dLat/2) + math.cos(math.radians(lat1)) * math.cos(math.radians(lat2)) * math.sin(dLng/2) * math.sin(dLng/2)\n",
    "    c = 2 * math.atan2(math.sqrt(a), math.sqrt(1-a))\n",
    "    dist = (earthRadius * c)\n",
    "    \n",
    "    return dist "
   ]
  },
  {
   "cell_type": "code",
   "execution_count": 22,
   "metadata": {
    "collapsed": true
   },
   "outputs": [],
   "source": [
    "N = data_line_brigade[0].count().Status\n",
    "lon = data_line_brigade[0].Lon.values\n",
    "lat = data_line_brigade[0].Lat.values\n",
    "timestamps = data_line_brigade[0].Timestamp.values"
   ]
  },
  {
   "cell_type": "code",
   "execution_count": 44,
   "metadata": {},
   "outputs": [
    {
     "name": "stderr",
     "output_type": "stream",
     "text": [
      "C:\\ProgramData\\Anaconda3\\lib\\site-packages\\numpy\\core\\fromnumeric.py:2889: RuntimeWarning: Mean of empty slice.\n",
      "  out=out, **kwargs)\n",
      "C:\\ProgramData\\Anaconda3\\lib\\site-packages\\numpy\\core\\_methods.py:80: RuntimeWarning: invalid value encountered in double_scalars\n",
      "  ret = ret.dtype.type(ret / rcount)\n"
     ]
    }
   ],
   "source": [
    "mean_speeds = []\n",
    "first_line = []\n",
    "brigade = []\n",
    "\n",
    "for single_data in data_line_brigade:\n",
    "    N = single_data.count().Status\n",
    "    lon = single_data.Lon.values\n",
    "    lat = single_data.Lat.values\n",
    "    timestamps = single_data.Timestamp.values\n",
    "    speed = []\n",
    "\n",
    "    for i in range(0,N-1):\n",
    "        dist = CountDistance(lat[i],lon[i],lat[i+1],lon[i+1])\n",
    "        if timestamps[i+1]-timestamps[i] > 0:\n",
    "            speed_temp = dist/(timestamps[i+1]-timestamps[i])\n",
    "            speed.append(np.abs(speed_temp*3.6))\n",
    "\n",
    "    mean_speeds.append(np.mean(speed))\n",
    "    first_line.append(single_data.FirstLine.iloc[0])\n",
    "    brigade.append(single_data.Brigade.iloc[0])"
   ]
  },
  {
   "cell_type": "code",
   "execution_count": 49,
   "metadata": {},
   "outputs": [],
   "source": [
    "mean_speeds_series = pd.Series(mean_speeds)\n",
    "first_line_series = pd.Series(first_line)\n",
    "brigade_series = pd.Series(brigade)"
   ]
  },
  {
   "cell_type": "code",
   "execution_count": 66,
   "metadata": {},
   "outputs": [
    {
     "data": {
      "text/html": [
       "<div>\n",
       "<style>\n",
       "    .dataframe thead tr:only-child th {\n",
       "        text-align: right;\n",
       "    }\n",
       "\n",
       "    .dataframe thead th {\n",
       "        text-align: left;\n",
       "    }\n",
       "\n",
       "    .dataframe tbody tr th {\n",
       "        vertical-align: top;\n",
       "    }\n",
       "</style>\n",
       "<table border=\"1\" class=\"dataframe\">\n",
       "  <thead>\n",
       "    <tr style=\"text-align: right;\">\n",
       "      <th></th>\n",
       "      <th>FirstLine</th>\n",
       "      <th>Brigade</th>\n",
       "      <th>MeanSpeed</th>\n",
       "    </tr>\n",
       "  </thead>\n",
       "  <tbody>\n",
       "    <tr>\n",
       "      <th>0</th>\n",
       "      <td>1</td>\n",
       "      <td>13</td>\n",
       "      <td>12.552557</td>\n",
       "    </tr>\n",
       "    <tr>\n",
       "      <th>1</th>\n",
       "      <td>1</td>\n",
       "      <td>16</td>\n",
       "      <td>12.299541</td>\n",
       "    </tr>\n",
       "    <tr>\n",
       "      <th>2</th>\n",
       "      <td>1</td>\n",
       "      <td>9</td>\n",
       "      <td>12.228868</td>\n",
       "    </tr>\n",
       "    <tr>\n",
       "      <th>3</th>\n",
       "      <td>1</td>\n",
       "      <td>10</td>\n",
       "      <td>11.808488</td>\n",
       "    </tr>\n",
       "    <tr>\n",
       "      <th>4</th>\n",
       "      <td>1</td>\n",
       "      <td>4</td>\n",
       "      <td>11.286600</td>\n",
       "    </tr>\n",
       "  </tbody>\n",
       "</table>\n",
       "</div>"
      ],
      "text/plain": [
       "   FirstLine Brigade  MeanSpeed\n",
       "0          1      13  12.552557\n",
       "1          1      16  12.299541\n",
       "2          1       9  12.228868\n",
       "3          1      10  11.808488\n",
       "4          1       4  11.286600"
      ]
     },
     "execution_count": 66,
     "metadata": {},
     "output_type": "execute_result"
    }
   ],
   "source": [
    "speed_line_brigade_df = pd.DataFrame()\n",
    "speed_line_brigade_df = speed_line_brigade_df.assign(FirstLine=first_line)\n",
    "speed_line_brigade_df = speed_line_brigade_df.assign(Brigade=brigade)\n",
    "speed_line_brigade_df = speed_line_brigade_df.assign(MeanSpeed=mean_speeds)\n",
    "speed_line_brigade_df.head()"
   ]
  },
  {
   "cell_type": "code",
   "execution_count": 83,
   "metadata": {},
   "outputs": [
    {
     "data": {
      "image/png": "[encoded data removed]",
      "text/plain": [
       "<matplotlib.figure.Figure at 0x13a0e913198>"
      ]
     },
     "metadata": {},
     "output_type": "display_data"
    }
   ],
   "source": [
    "def plotDataFrame(input_df):\n",
    "    i=1\n",
    "    xcounter=0\n",
    "    for line in lines:\n",
    "        if i==1:\n",
    "            i=-i\n",
    "            temp_df = input_df[input_df.FirstLine == line]\n",
    "            elems = len(temp_df.index)\n",
    "            rng = list(map(lambda x: x*5,range(xcounter,xcounter+elems)))\n",
    "            plt.plot(rng,temp_df.MeanSpeed.values,'bo')\n",
    "            xcounter = xcounter+elems\n",
    "        else:\n",
    "            i=-i\n",
    "            temp_df = input_df[input_df.FirstLine == line]\n",
    "            elems = len(temp_df.index)\n",
    "            rng = list(map(lambda x: x*5,range(xcounter,xcounter+elems)))\n",
    "            plt.plot(rng,temp_df.MeanSpeed.values,'ro')\n",
    "            xcounter = xcounter+elems\n",
    "\n",
    "    #plt.plot(np.arange(750)[1::2],speed_line_brigade_df.MeanSpeed.values[1::2],'ro')\n",
    "    plt.show()\n",
    "\n",
    "plotDataFrame(speed_line_brigade_df)"
   ]
  },
  {
   "cell_type": "code",
   "execution_count": 84,
   "metadata": {},
   "outputs": [
    {
     "data": {
      "image/png": "[encoded data removed]",
      "text/plain": [
       "<matplotlib.figure.Figure at 0x13a0e928400>"
      ]
     },
     "metadata": {},
     "output_type": "display_data"
    }
   ],
   "source": [
    "\n",
    "speed_line_brigade_df_reduced = speed_line_brigade_df[speed_line_brigade_df.MeanSpeed < 25]\n",
    "speed_line_brigade_df_reduced = speed_line_brigade_df_reduced[speed_line_brigade_df_reduced.MeanSpeed > 2]\n",
    "\n",
    "plotDataFrame(speed_line_brigade_df_reduced)"
   ]
  },
  {
   "cell_type": "code",
   "execution_count": 85,
   "metadata": {
    "collapsed": true
   },
   "outputs": [],
   "source": [
    "median_speed = []\n",
    "for line in lines:\n",
    "    temp_df = speed_line_brigade_df_reduced[speed_line_brigade_df_reduced.FirstLine == line]\n",
    "    median_speed.append(temp_df.MeanSpeed.median())\n",
    "\n"
   ]
  },
  {
   "cell_type": "code",
   "execution_count": 88,
   "metadata": {},
   "outputs": [
    {
     "data": {
      "image/png": "[encoded data removed]",
      "text/plain": [
       "<matplotlib.figure.Figure at 0x13a0f5a05f8>"
      ]
     },
     "metadata": {},
     "output_type": "display_data"
    }
   ],
   "source": [
    "ind = np.arange(len(lines))  # the x locations for the groups\n",
    "width = 0.5       # the width of the bars\n",
    "fig, ax = plt.subplots()\n",
    "rects1 = ax.bar(ind, median_speed, width, color='b')\n",
    "lineStr = tuple(map(lambda x: str(x), lines))\n",
    "ax.set_xticklabels(lineStr)\n",
    "ax.set_ylabel('Mediana prędkości')\n",
    "ax.set_title('Mediana prędkości dla tramwajów danej linii')\n",
    "ax.set_xticks(ind)\n",
    "plt.show()\n"
   ]
  },
  {
   "cell_type": "code",
   "execution_count": 113,
   "metadata": {
    "collapsed": true
   },
   "outputs": [],
   "source": [
    "colors = ['#000000', '#000080', '#00008B', '#0000CD', '#0000FF', '#006400', '#008000', '#008080', '#008B8B', '#00BFFF', '#00CED1', '#00FA9A', '#00FF00', '#00FF7F', '#00FFFF', '#00FFFF', '#191970', '#1E90FF', '#20B2AA', '#228B22', '#2E8B57', '#2F4F4F', '#2F4F4F', '#32CD32', '#3CB371', '#40E0D0', '#4169E1', '#4682B4', '#483D8B', '#48D1CC', '#4B0082', '#556B2F', '#5F9EA0', '#6495ED', '#663399', '#66CDAA', '#696969', '#696969', '#6A5ACD', '#6B8E23', '#708090', '#708090', '#778899', '#778899', '#7B68EE', '#7CFC00', '#7FFF00', '#7FFFD4', '#800000', '#800080', '#808000', '#808080', '#808080', '#87CEEB', '#87CEFA', '#8A2BE2', '#8B0000', '#8B008B', '#8B4513', '#8FBC8F', '#90EE90', '#9370DB', '#9400D3', '#98FB98', '#9932CC', '#9ACD32', '#A0522D', '#A52A2A', '#A9A9A9', '#A9A9A9', '#ADD8E6', '#ADFF2F', '#AFEEEE', '#B0C4DE', '#B0E0E6', '#B22222', '#B8860B', '#BA55D3', '#BC8F8F', '#BDB76B', '#C0C0C0', '#C71585', '#CD5C5C', '#CD853F', '#D2691E', '#D2B48C', '#D3D3D3', '#D3D3D3', '#D8BFD8', '#DA70D6', '#DAA520', '#DB7093', '#DC143C', '#DCDCDC', '#DDA0DD', '#DEB887', '#E0FFFF', '#E6E6FA', '#E9967A', '#EE82EE', '#EEE8AA', '#F08080', '#F0E68C', '#F0F8FF', '#F0FFF0', '#F0FFFF', '#F4A460', '#F5DEB3', '#F5F5DC', '#F5F5F5', '#F5FFFA', '#F8F8FF', '#FA8072', '#FAEBD7', '#FAF0E6', '#FAFAD2', '#FDF5E6', '#FF0000', '#FF00FF', '#FF00FF', '#FF1493', '#FF4500', '#FF6347', '#FF69B4', '#FF7F50', '#FF8C00', '#FFA07A', '#FFA500', '#FFB6C1', '#FFC0CB', '#FFD700', '#FFDAB9', '#FFDEAD', '#FFE4B5', '#FFE4C4', '#FFE4E1', '#FFEBCD', '#FFEFD5', '#FFF0F5', '#FFF5EE', '#FFF8DC', '#FFFACD', '#FFFAF0', '#FFFAFA', '#FFFF00', '#FFFFE0', '#FFFFF0', '#FFFFFF']\n",
    "import random"
   ]
  },
  {
   "cell_type": "code",
   "execution_count": 141,
   "metadata": {
    "collapsed": true
   },
   "outputs": [],
   "source": [
    "def plot_lines(lines_arr,whole_map=True):\n",
    "    if whole_map:\n",
    "        for oneLine in arrayWithData:\n",
    "            plt.plot( oneLine.Lon,oneLine.Lat, 'r.')\n",
    "    for line in lines_arr:\n",
    "        index = lines.index(line)\n",
    "        temp_df = arrayWithData[index]\n",
    "        plt.plot( temp_df.Lon,temp_df.Lat, marker = '.', markerfacecolor=random.choice(colors), linestyle = '')\n",
    "        plt.title = 'Trasa linii'\n",
    "    plt.show()"
   ]
  },
  {
   "cell_type": "code",
   "execution_count": 142,
   "metadata": {},
   "outputs": [
    {
     "data": {
      "image/png": "[encoded data removed]",
      "text/plain": [
       "<matplotlib.figure.Figure at 0x13a0eb7a6d8>"
      ]
     },
     "metadata": {},
     "output_type": "display_data"
    },
    {
     "data": {
      "image/png": "[encoded data removed]",
      "text/plain": [
       "<matplotlib.figure.Figure at 0x13a1264ee10>"
      ]
     },
     "metadata": {},
     "output_type": "display_data"
    },
    {
     "data": {
      "image/png": "[encoded data removed]",
      "text/plain": [
       "<matplotlib.figure.Figure at 0x13a12506cf8>"
      ]
     },
     "metadata": {},
     "output_type": "display_data"
    },
    {
     "data": {
      "image/png": "[encoded data removed]",
      "text/plain": [
       "<matplotlib.figure.Figure at 0x13a12771588>"
      ]
     },
     "metadata": {},
     "output_type": "display_data"
    },
    {
     "data": {
      "image/png": "[encoded data removed]",
      "text/plain": [
       "<matplotlib.figure.Figure at 0x13a123e4eb8>"
      ]
     },
     "metadata": {},
     "output_type": "display_data"
    }
   ],
   "source": [
    "plot_lines([17])\n",
    "plot_lines([18])\n",
    "plot_lines([20])\n",
    "plot_lines([2])\n",
    "plot_lines([31])"
   ]
  },
  {
   "cell_type": "code",
   "execution_count": null,
   "metadata": {
    "collapsed": true
   },
   "outputs": [],
   "source": []
  }
 ],
 "metadata": {
  "kernelspec": {
   "display_name": "Python 3",
   "language": "python",
   "name": "python3"
  },
  "language_info": {
   "codemirror_mode": {
    "name": "ipython",
    "version": 3
   },
   "file_extension": ".py",
   "mimetype": "text/x-python",
   "name": "python",
   "nbconvert_exporter": "python",
   "pygments_lexer": "ipython3",
   "version": "3.5.3"
  }
 },
 "nbformat": 4,
 "nbformat_minor": 2
}
