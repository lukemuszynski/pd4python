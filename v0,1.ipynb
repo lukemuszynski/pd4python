{
 "cells": [
  {
   "cell_type": "code",
   "execution_count": 22,
   "metadata": {
    "collapsed": true
   },
   "outputs": [],
   "source": [
    "import pandas as pd\n",
    "import numpy as np\n",
    "import matplotlib.pyplot as plt"
   ]
  },
  {
   "cell_type": "code",
   "execution_count": 23,
   "metadata": {
    "collapsed": false
   },
   "outputs": [],
   "source": [
    "data = pd.read_csv(\"data_csv\\\\2017_05_18.csv\")"
   ]
  },
  {
   "cell_type": "code",
   "execution_count": 24,
   "metadata": {
    "collapsed": false
   },
   "outputs": [
    {
     "data": {
      "text/html": [
       "<div>\n",
       "<table border=\"1\" class=\"dataframe\">\n",
       "  <thead>\n",
       "    <tr style=\"text-align: right;\">\n",
       "      <th></th>\n",
       "      <th>Status</th>\n",
       "      <th>FirstLine</th>\n",
       "      <th>Lon</th>\n",
       "      <th>Lines</th>\n",
       "      <th>Time</th>\n",
       "      <th>Lat</th>\n",
       "      <th>LowFloor</th>\n",
       "      <th>Brigade</th>\n",
       "    </tr>\n",
       "  </thead>\n",
       "  <tbody>\n",
       "    <tr>\n",
       "      <th>0</th>\n",
       "      <td>RUNNING</td>\n",
       "      <td>28</td>\n",
       "      <td>20.971098</td>\n",
       "      <td>28</td>\n",
       "      <td>2017-05-18T11:57:31</td>\n",
       "      <td>52.264481</td>\n",
       "      <td>False</td>\n",
       "      <td>11</td>\n",
       "    </tr>\n",
       "    <tr>\n",
       "      <th>1</th>\n",
       "      <td>RUNNING</td>\n",
       "      <td>22</td>\n",
       "      <td>21.084555</td>\n",
       "      <td>22</td>\n",
       "      <td>2017-05-18T11:57:32</td>\n",
       "      <td>52.244629</td>\n",
       "      <td>False</td>\n",
       "      <td>1</td>\n",
       "    </tr>\n",
       "    <tr>\n",
       "      <th>2</th>\n",
       "      <td>RUNNING</td>\n",
       "      <td>22</td>\n",
       "      <td>20.977781</td>\n",
       "      <td>22</td>\n",
       "      <td>2017-05-18T11:57:02</td>\n",
       "      <td>52.262615</td>\n",
       "      <td>False</td>\n",
       "      <td>8</td>\n",
       "    </tr>\n",
       "    <tr>\n",
       "      <th>3</th>\n",
       "      <td>RUNNING</td>\n",
       "      <td>4</td>\n",
       "      <td>21.012976</td>\n",
       "      <td>4</td>\n",
       "      <td>2017-05-18T11:57:31</td>\n",
       "      <td>52.311100</td>\n",
       "      <td>False</td>\n",
       "      <td>7</td>\n",
       "    </tr>\n",
       "    <tr>\n",
       "      <th>4</th>\n",
       "      <td>RUNNING</td>\n",
       "      <td>35</td>\n",
       "      <td>21.024283</td>\n",
       "      <td>35</td>\n",
       "      <td>2017-05-18T11:57:37</td>\n",
       "      <td>52.196407</td>\n",
       "      <td>False</td>\n",
       "      <td>8</td>\n",
       "    </tr>\n",
       "  </tbody>\n",
       "</table>\n",
       "</div>"
      ],
      "text/plain": [
       "    Status  FirstLine        Lon            Lines                 Time  \\\n",
       "0  RUNNING         28  20.971098  28               2017-05-18T11:57:31   \n",
       "1  RUNNING         22  21.084555  22               2017-05-18T11:57:32   \n",
       "2  RUNNING         22  20.977781  22               2017-05-18T11:57:02   \n",
       "3  RUNNING          4  21.012976  4                2017-05-18T11:57:31   \n",
       "4  RUNNING         35  21.024283  35               2017-05-18T11:57:37   \n",
       "\n",
       "         Lat LowFloor Brigade  \n",
       "0  52.264481    False    11    \n",
       "1  52.244629    False    1     \n",
       "2  52.262615    False    8     \n",
       "3  52.311100    False    7     \n",
       "4  52.196407    False    8     "
      ]
     },
     "execution_count": 24,
     "metadata": {},
     "output_type": "execute_result"
    }
   ],
   "source": [
    "data.head()"
   ]
  },
  {
   "cell_type": "code",
   "execution_count": 41,
   "metadata": {
    "collapsed": false
   },
   "outputs": [],
   "source": [
    "data17 = data[data.FirstLine==17]"
   ]
  },
  {
   "cell_type": "code",
   "execution_count": 42,
   "metadata": {
    "collapsed": false
   },
   "outputs": [],
   "source": [
    "data17Lon = data17[np.abs(data17.Lon-data17.Lon.mean())<3*data17.Lon.std()]\n",
    "data17LonLat = data17Lon[np.abs(data17Lon.Lat-data17Lon.Lat.mean())<3*data17Lon.Lat.std()]"
   ]
  },
  {
   "cell_type": "code",
   "execution_count": 43,
   "metadata": {
    "collapsed": false
   },
   "outputs": [
    {
     "data": {
      "text/html": [
       "<div>\n",
       "<table border=\"1\" class=\"dataframe\">\n",
       "  <thead>\n",
       "    <tr style=\"text-align: right;\">\n",
       "      <th></th>\n",
       "      <th>Status</th>\n",
       "      <th>FirstLine</th>\n",
       "      <th>Lon</th>\n",
       "      <th>Lines</th>\n",
       "      <th>Time</th>\n",
       "      <th>Lat</th>\n",
       "      <th>LowFloor</th>\n",
       "      <th>Brigade</th>\n",
       "    </tr>\n",
       "  </thead>\n",
       "  <tbody>\n",
       "    <tr>\n",
       "      <th>79</th>\n",
       "      <td>RUNNING</td>\n",
       "      <td>17</td>\n",
       "      <td>21.004986</td>\n",
       "      <td>17</td>\n",
       "      <td>2017-05-18T11:57:40</td>\n",
       "      <td>52.220673</td>\n",
       "      <td>True</td>\n",
       "      <td>34</td>\n",
       "    </tr>\n",
       "    <tr>\n",
       "      <th>84</th>\n",
       "      <td>RUNNING</td>\n",
       "      <td>17</td>\n",
       "      <td>21.003632</td>\n",
       "      <td>17</td>\n",
       "      <td>2017-05-18T11:57:40</td>\n",
       "      <td>52.188686</td>\n",
       "      <td>True</td>\n",
       "      <td>32</td>\n",
       "    </tr>\n",
       "    <tr>\n",
       "      <th>97</th>\n",
       "      <td>RUNNING</td>\n",
       "      <td>17</td>\n",
       "      <td>21.007894</td>\n",
       "      <td>17</td>\n",
       "      <td>2017-05-18T11:57:39</td>\n",
       "      <td>52.208466</td>\n",
       "      <td>True</td>\n",
       "      <td>40</td>\n",
       "    </tr>\n",
       "    <tr>\n",
       "      <th>113</th>\n",
       "      <td>RUNNING</td>\n",
       "      <td>17</td>\n",
       "      <td>20.977528</td>\n",
       "      <td>17,18</td>\n",
       "      <td>2017-05-18T11:57:40</td>\n",
       "      <td>52.265800</td>\n",
       "      <td>True</td>\n",
       "      <td>14</td>\n",
       "    </tr>\n",
       "    <tr>\n",
       "      <th>118</th>\n",
       "      <td>RUNNING</td>\n",
       "      <td>17</td>\n",
       "      <td>21.020071</td>\n",
       "      <td>17,18</td>\n",
       "      <td>2017-05-18T11:57:39</td>\n",
       "      <td>52.266563</td>\n",
       "      <td>True</td>\n",
       "      <td>5</td>\n",
       "    </tr>\n",
       "  </tbody>\n",
       "</table>\n",
       "</div>"
      ],
      "text/plain": [
       "      Status  FirstLine        Lon            Lines                 Time  \\\n",
       "79   RUNNING         17  21.004986  17               2017-05-18T11:57:40   \n",
       "84   RUNNING         17  21.003632  17               2017-05-18T11:57:40   \n",
       "97   RUNNING         17  21.007894  17               2017-05-18T11:57:39   \n",
       "113  RUNNING         17  20.977528  17,18            2017-05-18T11:57:40   \n",
       "118  RUNNING         17  21.020071  17,18            2017-05-18T11:57:39   \n",
       "\n",
       "           Lat LowFloor Brigade  \n",
       "79   52.220673     True    34    \n",
       "84   52.188686     True    32    \n",
       "97   52.208466     True    40    \n",
       "113  52.265800     True    14    \n",
       "118  52.266563     True    5     "
      ]
     },
     "execution_count": 43,
     "metadata": {},
     "output_type": "execute_result"
    }
   ],
   "source": [
    "data17LonLat.head()"
   ]
  },
  {
   "cell_type": "code",
   "execution_count": 44,
   "metadata": {
    "collapsed": false
   },
   "outputs": [
    {
     "name": "stdout",
     "output_type": "stream",
     "text": [
      "20.9340782 21.2942829\n",
      "52.186821 52.3245163\n"
     ]
    }
   ],
   "source": [
    "print(min(data17LonLat.Lon),max(data17LonLat.Lon))\n",
    "print(min(data17LonLat.Lat),max(data17LonLat.Lat))"
   ]
  },
  {
   "cell_type": "code",
   "execution_count": 45,
   "metadata": {
    "collapsed": false
   },
   "outputs": [],
   "source": [
    "interpolatedX = np.linspace(min(data17LonLat.Lon), max(data17LonLat.Lon), 250)\n",
    "interpolatedY = np.interp(interpolatedX,data17LonLat.Lon,data17LonLat.Lat)"
   ]
  },
  {
   "cell_type": "code",
   "execution_count": 46,
   "metadata": {
    "collapsed": false
   },
   "outputs": [
    {
     "data": {
      "image/png": "[encoded data removed]",
      "text/plain": [
       "<matplotlib.figure.Figure at 0x16bac29d470>"
      ]
     },
     "metadata": {},
     "output_type": "display_data"
    }
   ],
   "source": [
    "plt.plot( data17LonLat.Lon,data17LonLat.Lat, 'r.')\n",
    "plt.show()"
   ]
  },
  {
   "cell_type": "code",
   "execution_count": 47,
   "metadata": {
    "collapsed": true
   },
   "outputs": [],
   "source": [
    "lines=[1,2, 3, 4, 6, 7, 9, 10, 11, 13, 14, 15, 17, 18, 20, 22, 23, 24, 25, 26, 27, 28, 31, 33, 35, 44]"
   ]
  },
  {
   "cell_type": "code",
   "execution_count": 56,
   "metadata": {
    "collapsed": false
   },
   "outputs": [],
   "source": [
    "arrayWithData = list()\n",
    "for line in lines:\n",
    "    dataTemp = data[data.FirstLine==line]\n",
    "    dataTempLon = dataTemp[np.abs(dataTemp.Lon-dataTemp.Lon.mean())<3*dataTemp.Lon.std()]\n",
    "    dataTempLonLat = dataTempLon[np.abs(dataTempLon.Lat-dataTempLon.Lat.mean())<3*dataTempLon.Lat.std()]\n",
    "    arrayWithData.append(dataTempLonLat)"
   ]
  },
  {
   "cell_type": "code",
   "execution_count": 68,
   "metadata": {
    "collapsed": false
   },
   "outputs": [],
   "source": [
    "arrayWithBrigades = list()\n",
    "for line in arrayWithData:\n",
    "    arrayWithBrigades.append(line.Brigade.unique())"
   ]
  },
  {
   "cell_type": "code",
   "execution_count": 59,
   "metadata": {
    "collapsed": false
   },
   "outputs": [
    {
     "data": {
      "image/png": "[encoded data removed]",
      "text/plain": [
       "<matplotlib.figure.Figure at 0x16bac45d908>"
      ]
     },
     "metadata": {},
     "output_type": "display_data"
    }
   ],
   "source": [
    "for oneLine in arrayWithData:\n",
    "    plt.plot( oneLine.Lon,oneLine.Lat, 'r.')\n",
    "\n",
    "plt.show()"
   ]
  },
  {
   "cell_type": "code",
   "execution_count": 71,
   "metadata": {
    "collapsed": false
   },
   "outputs": [],
   "source": [
    "brigade0line0=arrayWithData[0][arrayWithData[0].Brigade == arrayWithBrigades[0][0]]"
   ]
  },
  {
   "cell_type": "code",
   "execution_count": 73,
   "metadata": {
    "collapsed": false
   },
   "outputs": [
    {
     "data": {
      "image/png": "[encoded data removed]",
      "text/plain": [
       "<matplotlib.figure.Figure at 0x16bac5d80b8>"
      ]
     },
     "metadata": {},
     "output_type": "display_data"
    }
   ],
   "source": [
    "plt.plot(arrayWithData[0].Lon,arrayWithData[0].Lat,'b.')\n",
    "plt.plot( brigade0line0.Lon,brigade0line0.Lat, 'r.')\n",
    "plt.show()"
   ]
  },
  {
   "cell_type": "code",
   "execution_count": null,
   "metadata": {
    "collapsed": true
   },
   "outputs": [],
   "source": []
  }
 ],
 "metadata": {
  "kernelspec": {
   "display_name": "Python 3",
   "language": "python",
   "name": "python3"
  },
  "language_info": {
   "codemirror_mode": {
    "name": "ipython",
    "version": 3
   },
   "file_extension": ".py",
   "mimetype": "text/x-python",
   "name": "python",
   "nbconvert_exporter": "python",
   "pygments_lexer": "ipython3",
   "version": "3.6.0"
  }
 },
 "nbformat": 4,
 "nbformat_minor": 2
}
