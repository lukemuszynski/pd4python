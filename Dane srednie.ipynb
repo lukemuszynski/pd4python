{
 "cells": [
  {
   "cell_type": "code",
   "execution_count": 324,
   "metadata": {
    "collapsed": true
   },
   "outputs": [],
   "source": [
    "import pandas as pd\n",
    "import numpy as np\n",
    "#%matplotlib nbagg\n",
    "import matplotlib.pyplot as plt\n",
    "from datetime import datetime"
   ]
  },
  {
   "cell_type": "code",
   "execution_count": 287,
   "metadata": {
    "collapsed": false
   },
   "outputs": [],
   "source": [
    "df = pd.DataFrame()\n",
    "path = \"data_csv\\\\2017_05_\"\n",
    "csv = \".csv\"\n",
    "for num in range(14,30):\n",
    "    tempPath = path+str(num)+csv\n",
    "    #print(tempPath)\n",
    "    df = pd.concat([df,pd.read_csv(tempPath,low_memory=False)])"
   ]
  },
  {
   "cell_type": "code",
   "execution_count": 288,
   "metadata": {
    "collapsed": false
   },
   "outputs": [
    {
     "name": "stdout",
     "output_type": "stream",
     "text": [
      "<class 'pandas.core.frame.DataFrame'>\n",
      "Int64Index: 1197052 entries, 0 to 91093\n",
      "Data columns (total 8 columns):\n",
      "Status       1197052 non-null object\n",
      "FirstLine    1197052 non-null object\n",
      "Lon          1197052 non-null float64\n",
      "Lines        1197052 non-null object\n",
      "Time         1197052 non-null object\n",
      "Lat          1197052 non-null float64\n",
      "LowFloor     1197052 non-null bool\n",
      "Brigade      1197052 non-null object\n",
      "dtypes: bool(1), float64(2), object(5)\n",
      "memory usage: 74.2+ MB\n"
     ]
    }
   ],
   "source": [
    "df.info()"
   ]
  },
  {
   "cell_type": "code",
   "execution_count": 289,
   "metadata": {
    "collapsed": true
   },
   "outputs": [],
   "source": [
    "lines=[1,2, 3, 4, 6, 7, 9, 10, 11, 13, 14, 15, 17, 18, 20, 22, 23, 24, 25, 26, 27, 28, 31, 33, 35, 44]\n",
    "data = df\n",
    "arrayWithData = list()\n",
    "for line in lines:\n",
    "    dataTemp = data[data.FirstLine==line]\n",
    "    dataTempLon = dataTemp[np.abs(dataTemp.Lon-dataTemp.Lon.mean())<3*dataTemp.Lon.std()]\n",
    "    dataTempLonLat = dataTempLon[np.abs(dataTempLon.Lat-dataTempLon.Lat.mean())<3*dataTempLon.Lat.std()]\n",
    "    arrayWithData.append(dataTempLonLat)\n"
   ]
  },
  {
   "cell_type": "code",
   "execution_count": 290,
   "metadata": {
    "collapsed": false
   },
   "outputs": [],
   "source": [
    "counterLine = []\n",
    "counterNumber = []\n",
    "for line in arrayWithData:\n",
    "    counterLine.append(line.iloc[0].FirstLine)\n",
    "    counterNumber.append(line.FirstLine.count())\n"
   ]
  },
  {
   "cell_type": "code",
   "execution_count": 298,
   "metadata": {
    "collapsed": false
   },
   "outputs": [
    {
     "data": {
      "image/png": "[encoded data removed]",
      "text/plain": [
       "<matplotlib.figure.Figure at 0x206056d8f60>"
      ]
     },
     "metadata": {},
     "output_type": "display_data"
    }
   ],
   "source": [
    "ind = np.arange(len(lines))  # the x locations for the groups\n",
    "width = 0.5       # the width of the bars\n",
    "fig, ax = plt.subplots()\n",
    "rects1 = ax.bar(ind, counterNumber, width, color='r')\n",
    "lineStr = tuple(map(lambda x: str(x), lines))\n",
    "ax.set_xticklabels(lineStr)\n",
    "ax.set_ylabel('Ilość pomiarów')\n",
    "ax.set_title('Ilość pomiarów w zależności linii tramwajowej w okresie 14-29.05')\n",
    "ax.set_xticks(ind)\n",
    "plt.show()"
   ]
  },
  {
   "cell_type": "code",
   "execution_count": 292,
   "metadata": {
    "collapsed": false
   },
   "outputs": [
    {
     "data": {
      "text/plain": [
       "'2017-05-14T20:35:37'"
      ]
     },
     "execution_count": 292,
     "metadata": {},
     "output_type": "execute_result"
    }
   ],
   "source": [
    "data.Time.iloc[0]"
   ]
  },
  {
   "cell_type": "code",
   "execution_count": 293,
   "metadata": {
    "collapsed": false
   },
   "outputs": [
    {
     "data": {
      "text/plain": [
       "'2017-05-14'"
      ]
     },
     "execution_count": 293,
     "metadata": {},
     "output_type": "execute_result"
    }
   ],
   "source": [
    "str(datetime.strptime(data.Time.iloc[0],\"%Y-%m-%dT%H:%M:%S\").date())"
   ]
  },
  {
   "cell_type": "code",
   "execution_count": 294,
   "metadata": {
    "collapsed": false
   },
   "outputs": [],
   "source": [
    "datesSeries = pd.Series(map(lambda x: str(datetime.strptime(x,\"%Y-%m-%dT%H:%M:%S\").date()),data.Time))\n",
    "dayofweekSeries = pd.Series(map(lambda x: datetime.strptime(x,\"%Y-%m-%dT%H:%M:%S\").isoweekday(),data.Time))"
   ]
  },
  {
   "cell_type": "code",
   "execution_count": 295,
   "metadata": {
    "collapsed": false
   },
   "outputs": [],
   "source": [
    "data = data.assign(Date=datesSeries.values)\n",
    "data = data.assign(DayOfWeek=dayofweekSeries.values)"
   ]
  },
  {
   "cell_type": "code",
   "execution_count": 296,
   "metadata": {
    "collapsed": false
   },
   "outputs": [
    {
     "name": "stdout",
     "output_type": "stream",
     "text": [
      "<class 'pandas.core.frame.DataFrame'>\n",
      "Int64Index: 1197052 entries, 0 to 91093\n",
      "Data columns (total 10 columns):\n",
      "Status       1197052 non-null object\n",
      "FirstLine    1197052 non-null object\n",
      "Lon          1197052 non-null float64\n",
      "Lines        1197052 non-null object\n",
      "Time         1197052 non-null object\n",
      "Lat          1197052 non-null float64\n",
      "LowFloor     1197052 non-null bool\n",
      "Brigade      1197052 non-null object\n",
      "Date         1197052 non-null object\n",
      "DayOfWeek    1197052 non-null int64\n",
      "dtypes: bool(1), float64(2), int64(1), object(6)\n",
      "memory usage: 92.5+ MB\n"
     ]
    }
   ],
   "source": [
    "data.info()"
   ]
  },
  {
   "cell_type": "code",
   "execution_count": 299,
   "metadata": {
    "collapsed": false
   },
   "outputs": [
    {
     "name": "stdout",
     "output_type": "stream",
     "text": [
      "<class 'pandas.core.frame.DataFrame'>\n",
      "Int64Index: 1196209 entries, 0 to 91093\n",
      "Data columns (total 10 columns):\n",
      "Status       1196209 non-null object\n",
      "FirstLine    1196209 non-null object\n",
      "Lon          1196209 non-null float64\n",
      "Lines        1196209 non-null object\n",
      "Time         1196209 non-null object\n",
      "Lat          1196209 non-null float64\n",
      "LowFloor     1196209 non-null bool\n",
      "Brigade      1196209 non-null object\n",
      "Date         1196209 non-null object\n",
      "DayOfWeek    1196209 non-null int64\n",
      "dtypes: bool(1), float64(2), int64(1), object(6)\n",
      "memory usage: 92.4+ MB\n"
     ]
    }
   ],
   "source": [
    "data = data.drop_duplicates()\n",
    "data.info()"
   ]
  },
  {
   "cell_type": "code",
   "execution_count": 310,
   "metadata": {
    "collapsed": false
   },
   "outputs": [
    {
     "data": {
      "text/plain": [
       "('2017-05-14',\n",
       " '2017-05-15',\n",
       " '2017-05-16',\n",
       " '2017-05-17',\n",
       " '2017-05-18',\n",
       " '2017-05-19',\n",
       " '2017-05-20',\n",
       " '2017-05-21',\n",
       " '2017-05-22',\n",
       " '2017-05-23',\n",
       " '2017-05-24',\n",
       " '2017-05-25',\n",
       " '2017-05-26',\n",
       " '2017-05-27',\n",
       " '2017-05-28',\n",
       " '2017-05-29')"
      ]
     },
     "execution_count": 310,
     "metadata": {},
     "output_type": "execute_result"
    }
   ],
   "source": [
    "data_grouped = data.groupby(['Date']).size()\n",
    "data_grouped_dropped=data_grouped.drop(['2017-05-14', '2017-05-15'])\n",
    "unique_dates = data.Date.unique()\n",
    "tuple(unique_dates)"
   ]
  },
  {
   "cell_type": "code",
   "execution_count": 311,
   "metadata": {
    "collapsed": false
   },
   "outputs": [
    {
     "data": {
      "text/plain": [
       "array(['2017-05-16', '2017-05-17', '2017-05-18', '2017-05-19',\n",
       "       '2017-05-20', '2017-05-21', '2017-05-22', '2017-05-23',\n",
       "       '2017-05-24', '2017-05-25', '2017-05-26', '2017-05-27',\n",
       "       '2017-05-28', '2017-05-29'], dtype=object)"
      ]
     },
     "execution_count": 311,
     "metadata": {},
     "output_type": "execute_result"
    }
   ],
   "source": [
    "\n",
    "dates = data_grouped_dropped.index.values\n",
    "counter_per_date = data_grouped_dropped.values\n",
    "unique_dates = unique_dates[2:]\n",
    "unique_dates"
   ]
  },
  {
   "cell_type": "code",
   "execution_count": 313,
   "metadata": {
    "collapsed": false
   },
   "outputs": [
    {
     "data": {
      "image/png": "[encoded data removed]",
      "text/plain": [
       "<matplotlib.figure.Figure at 0x20605657208>"
      ]
     },
     "metadata": {},
     "output_type": "display_data"
    }
   ],
   "source": [
    "ind = np.arange(len(unique_dates))\n",
    "width = 0.5       # the width of the bars\n",
    "fig, ax = plt.subplots()\n",
    "rects1 = ax.bar(ind, counter_per_date, width, color='b')\n",
    "\n",
    "ax.set_xticklabels(tuple(unique_dates),rotation='vertical')\n",
    "ax.set_ylabel('Ilość pomiarów')\n",
    "ax.set_title('Średnia ilość pomiarów w zależności od dnia tygodnia w okresie 14-29.05')\n",
    "ax.set_xticks(ind)\n",
    "plt.show()"
   ]
  },
  {
   "cell_type": "code",
   "execution_count": 355,
   "metadata": {
    "collapsed": false
   },
   "outputs": [
    {
     "data": {
      "text/plain": [
       "[98941, 97381, 97889, 99872, 60941, 51797, 91426]"
      ]
     },
     "execution_count": 355,
     "metadata": {},
     "output_type": "execute_result"
    }
   ],
   "source": [
    "N = 7\n",
    "first_week = list(counter_per_date[0:6])\n",
    "first_week.append(counter_per_date[13])\n",
    "first_week"
   ]
  },
  {
   "cell_type": "code",
   "execution_count": 356,
   "metadata": {
    "collapsed": false
   },
   "outputs": [
    {
     "data": {
      "text/plain": [
       "[93328, 95829, 100336, 98326, 95587, 55807, 47484]"
      ]
     },
     "execution_count": 356,
     "metadata": {},
     "output_type": "execute_result"
    }
   ],
   "source": [
    "second_week = list(counter_per_date[6:13])\n",
    "second_week"
   ]
  },
  {
   "cell_type": "code",
   "execution_count": 357,
   "metadata": {
    "collapsed": false
   },
   "outputs": [
    {
     "ename": "ValueError",
     "evalue": "incompatible sizes: argument 'height' must be length 14 or scalar",
     "output_type": "error",
     "traceback": [
      "\u001b[0;31m---------------------------------------------------------------------------\u001b[0m",
      "\u001b[0;31mValueError\u001b[0m                                Traceback (most recent call last)",
      "\u001b[0;32m<ipython-input-357-ff91c7e4c7e4>\u001b[0m in \u001b[0;36m<module>\u001b[0;34m()\u001b[0m\n\u001b[1;32m      4\u001b[0m \u001b[1;33m\u001b[0m\u001b[0m\n\u001b[1;32m      5\u001b[0m \u001b[0mfig\u001b[0m\u001b[1;33m,\u001b[0m \u001b[0max\u001b[0m \u001b[1;33m=\u001b[0m \u001b[0mplt\u001b[0m\u001b[1;33m.\u001b[0m\u001b[0msubplots\u001b[0m\u001b[1;33m(\u001b[0m\u001b[1;33m)\u001b[0m\u001b[1;33m\u001b[0m\u001b[0m\n\u001b[0;32m----> 6\u001b[0;31m \u001b[0mrects1\u001b[0m \u001b[1;33m=\u001b[0m \u001b[0max\u001b[0m\u001b[1;33m.\u001b[0m\u001b[0mbar\u001b[0m\u001b[1;33m(\u001b[0m\u001b[0mind\u001b[0m\u001b[1;33m,\u001b[0m \u001b[0mfirst_week\u001b[0m\u001b[1;33m,\u001b[0m \u001b[0mwidth\u001b[0m\u001b[1;33m,\u001b[0m \u001b[0mcolor\u001b[0m\u001b[1;33m=\u001b[0m\u001b[1;34m'r'\u001b[0m\u001b[1;33m)\u001b[0m\u001b[1;33m\u001b[0m\u001b[0m\n\u001b[0m\u001b[1;32m      7\u001b[0m \u001b[1;33m\u001b[0m\u001b[0m\n\u001b[1;32m      8\u001b[0m \u001b[1;33m\u001b[0m\u001b[0m\n",
      "\u001b[0;32mC:\\ProgramData\\Anaconda3\\lib\\site-packages\\matplotlib\\__init__.py\u001b[0m in \u001b[0;36minner\u001b[0;34m(ax, *args, **kwargs)\u001b[0m\n\u001b[1;32m   1889\u001b[0m                     warnings.warn(msg % (label_namer, func.__name__),\n\u001b[1;32m   1890\u001b[0m                                   RuntimeWarning, stacklevel=2)\n\u001b[0;32m-> 1891\u001b[0;31m             \u001b[1;32mreturn\u001b[0m \u001b[0mfunc\u001b[0m\u001b[1;33m(\u001b[0m\u001b[0max\u001b[0m\u001b[1;33m,\u001b[0m \u001b[1;33m*\u001b[0m\u001b[0margs\u001b[0m\u001b[1;33m,\u001b[0m \u001b[1;33m**\u001b[0m\u001b[0mkwargs\u001b[0m\u001b[1;33m)\u001b[0m\u001b[1;33m\u001b[0m\u001b[0m\n\u001b[0m\u001b[1;32m   1892\u001b[0m         \u001b[0mpre_doc\u001b[0m \u001b[1;33m=\u001b[0m \u001b[0minner\u001b[0m\u001b[1;33m.\u001b[0m\u001b[0m__doc__\u001b[0m\u001b[1;33m\u001b[0m\u001b[0m\n\u001b[1;32m   1893\u001b[0m         \u001b[1;32mif\u001b[0m \u001b[0mpre_doc\u001b[0m \u001b[1;32mis\u001b[0m \u001b[1;32mNone\u001b[0m\u001b[1;33m:\u001b[0m\u001b[1;33m\u001b[0m\u001b[0m\n",
      "\u001b[0;32mC:\\ProgramData\\Anaconda3\\lib\\site-packages\\matplotlib\\axes\\_axes.py\u001b[0m in \u001b[0;36mbar\u001b[0;34m(self, left, height, width, bottom, **kwargs)\u001b[0m\n\u001b[1;32m   2077\u001b[0m         \u001b[1;32mif\u001b[0m \u001b[0mlen\u001b[0m\u001b[1;33m(\u001b[0m\u001b[0mheight\u001b[0m\u001b[1;33m)\u001b[0m \u001b[1;33m!=\u001b[0m \u001b[0mnbars\u001b[0m\u001b[1;33m:\u001b[0m\u001b[1;33m\u001b[0m\u001b[0m\n\u001b[1;32m   2078\u001b[0m             raise ValueError(\"incompatible sizes: argument 'height' \"\n\u001b[0;32m-> 2079\u001b[0;31m                               \"must be length %d or scalar\" % nbars)\n\u001b[0m\u001b[1;32m   2080\u001b[0m         \u001b[1;32mif\u001b[0m \u001b[0mlen\u001b[0m\u001b[1;33m(\u001b[0m\u001b[0mwidth\u001b[0m\u001b[1;33m)\u001b[0m \u001b[1;33m!=\u001b[0m \u001b[0mnbars\u001b[0m\u001b[1;33m:\u001b[0m\u001b[1;33m\u001b[0m\u001b[0m\n\u001b[1;32m   2081\u001b[0m             raise ValueError(\"incompatible sizes: argument 'width' \"\n",
      "\u001b[0;31mValueError\u001b[0m: incompatible sizes: argument 'height' must be length 14 or scalar"
     ]
    }
   ],
   "source": [
    "                                   \n",
    "indx = np.arange(N)\n",
    "width = 0.35\n",
    "\n",
    "fig, ax = plt.subplots()\n",
    "rects1 = ax.bar(ind, first_week, width, color='r')\n",
    "\n",
    "\n",
    "rects2 = ax.bar(ind + width, second_week, width, color='y')\n",
    "\n",
    "# add some text for labels, title and axes ticks\n",
    "ax.set_ylabel('Scores')\n",
    "ax.set_title('Scores by group and gender')\n",
    "ax.set_xticks(ind + width / 2)\n",
    "ax.set_xticklabels(('Pn', 'Wt', 'Sr', 'Cz', 'Pt','Sb', 'Nd'))\n",
    "\n",
    "ax.legend((rects1[0], rects2[0]), ('1 tydzien', '2 tydzien'))\n",
    "\n",
    "\n",
    "def autolabel(rects):\n",
    "    \"\"\"\n",
    "    Attach a text label above each bar displaying its height\n",
    "    \"\"\"\n",
    "    for rect in rects:\n",
    "        height = rect.get_height()\n",
    "        ax.text(rect.get_x() + rect.get_width()/2., 1.05*height,\n",
    "                '%d' % int(height),\n",
    "                ha='center', va='bottom')\n",
    "\n",
    "#autolabel(rects1)\n",
    "#autolabel(rects2)\n",
    "\n",
    "plt.show()"
   ]
  },
  {
   "cell_type": "code",
   "execution_count": null,
   "metadata": {
    "collapsed": true
   },
   "outputs": [],
   "source": []
  }
 ],
 "metadata": {
  "kernelspec": {
   "display_name": "Python 3",
   "language": "python",
   "name": "python3"
  },
  "language_info": {
   "codemirror_mode": {
    "name": "ipython",
    "version": 3
   },
   "file_extension": ".py",
   "mimetype": "text/x-python",
   "name": "python",
   "nbconvert_exporter": "python",
   "pygments_lexer": "ipython3",
   "version": "3.6.0"
  }
 },
 "nbformat": 4,
 "nbformat_minor": 2
}
