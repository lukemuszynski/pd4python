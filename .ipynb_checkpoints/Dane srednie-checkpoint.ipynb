{
 "cells": [
  {
   "cell_type": "code",
   "execution_count": 1,
   "metadata": {
    "collapsed": true
   },
   "outputs": [],
   "source": [
    "import pandas as pd\n",
    "import numpy as np\n",
    "#%matplotlib nbagg\n",
    "import matplotlib.pyplot as plt\n",
    "from datetime import datetime"
   ]
  },
  {
   "cell_type": "code",
   "execution_count": 2,
   "metadata": {
    "collapsed": false
   },
   "outputs": [],
   "source": [
    "df = pd.DataFrame()\n",
    "path = \"data_csv\\\\2017_05_\"\n",
    "csv = \".csv\"\n",
    "for num in range(14,30):\n",
    "    tempPath = path+str(num)+csv\n",
    "    #print(tempPath)\n",
    "    df = pd.concat([df,pd.read_csv(tempPath,low_memory=False)])"
   ]
  },
  {
   "cell_type": "code",
   "execution_count": 3,
   "metadata": {
    "collapsed": false
   },
   "outputs": [
    {
     "name": "stdout",
     "output_type": "stream",
     "text": [
      "<class 'pandas.core.frame.DataFrame'>\n",
      "Int64Index: 1197052 entries, 0 to 91093\n",
      "Data columns (total 8 columns):\n",
      "Status       1197052 non-null object\n",
      "FirstLine    1197052 non-null object\n",
      "Lon          1197052 non-null float64\n",
      "Lines        1197052 non-null object\n",
      "Time         1197052 non-null object\n",
      "Lat          1197052 non-null float64\n",
      "LowFloor     1197052 non-null bool\n",
      "Brigade      1197052 non-null object\n",
      "dtypes: bool(1), float64(2), object(5)\n",
      "memory usage: 74.2+ MB\n"
     ]
    }
   ],
   "source": [
    "df.info()"
   ]
  },
  {
   "cell_type": "code",
   "execution_count": 4,
   "metadata": {
    "collapsed": true
   },
   "outputs": [],
   "source": [
    "lines=[1,2, 3, 4, 6, 7, 9, 10, 11, 13, 14, 15, 17, 18, 20, 22, 23, 24, 25, 26, 27, 28, 31, 33, 35, 44]\n",
    "data = df\n",
    "arrayWithData = list()\n",
    "for line in lines:\n",
    "    dataTemp = data[data.FirstLine==line]\n",
    "    dataTempLon = dataTemp[np.abs(dataTemp.Lon-dataTemp.Lon.mean())<3*dataTemp.Lon.std()]\n",
    "    dataTempLonLat = dataTempLon[np.abs(dataTempLon.Lat-dataTempLon.Lat.mean())<3*dataTempLon.Lat.std()]\n",
    "    arrayWithData.append(dataTempLonLat)\n"
   ]
  },
  {
   "cell_type": "code",
   "execution_count": 5,
   "metadata": {
    "collapsed": false
   },
   "outputs": [],
   "source": [
    "counterLine = []\n",
    "counterNumber = []\n",
    "for line in arrayWithData:\n",
    "    counterLine.append(line.iloc[0].FirstLine)\n",
    "    counterNumber.append(line.FirstLine.count())\n"
   ]
  },
  {
   "cell_type": "code",
   "execution_count": 6,
   "metadata": {
    "collapsed": false
   },
   "outputs": [
    {
     "data": {
      "image/png": "[encoded data removed]",
      "text/plain": [
       "<matplotlib.figure.Figure at 0x1e0dd63ee10>"
      ]
     },
     "metadata": {},
     "output_type": "display_data"
    }
   ],
   "source": [
    "ind = np.arange(len(lines))  # the x locations for the groups\n",
    "width = 0.5       # the width of the bars\n",
    "fig, ax = plt.subplots()\n",
    "rects1 = ax.bar(ind, counterNumber, width, color='r')\n",
    "lineStr = tuple(map(lambda x: str(x), lines))\n",
    "ax.set_xticklabels(lineStr)\n",
    "ax.set_ylabel('Ilość pomiarów')\n",
    "ax.set_title('Ilość pomiarów w zależności linii tramwajowej w okresie 14-29.05')\n",
    "ax.set_xticks(ind)\n",
    "plt.show()"
   ]
  },
  {
   "cell_type": "code",
   "execution_count": 7,
   "metadata": {
    "collapsed": false
   },
   "outputs": [
    {
     "data": {
      "text/plain": [
       "'2017-05-14T20:35:37'"
      ]
     },
     "execution_count": 7,
     "metadata": {},
     "output_type": "execute_result"
    }
   ],
   "source": [
    "data.Time.iloc[0]"
   ]
  },
  {
   "cell_type": "code",
   "execution_count": null,
   "metadata": {
    "collapsed": false
   },
   "outputs": [
    {
     "data": {
      "text/plain": [
       "'2017-05-14'"
      ]
     },
     "execution_count": 8,
     "metadata": {},
     "output_type": "execute_result"
    }
   ],
   "source": [
    "str(datetime.strptime(data.Time.iloc[0],\"%Y-%m-%dT%H:%M:%S\").date())"
   ]
  },
  {
   "cell_type": "code",
   "execution_count": null,
   "metadata": {
    "collapsed": false
   },
   "outputs": [],
   "source": [
    "datesSeries = pd.Series(map(lambda x: str(datetime.strptime(x,\"%Y-%m-%dT%H:%M:%S\").date()),data.Time))\n",
    "dayofweekSeries = pd.Series(map(lambda x: datetime.strptime(x,\"%Y-%m-%dT%H:%M:%S\").isoweekday(),data.Time))"
   ]
  },
  {
   "cell_type": "code",
   "execution_count": null,
   "metadata": {
    "collapsed": false
   },
   "outputs": [],
   "source": [
    "data = data.assign(Date=datesSeries.values)\n",
    "data = data.assign(DayOfWeek=dayofweekSeries.values)"
   ]
  },
  {
   "cell_type": "code",
   "execution_count": null,
   "metadata": {
    "collapsed": false
   },
   "outputs": [],
   "source": [
    "data.info()"
   ]
  },
  {
   "cell_type": "code",
   "execution_count": null,
   "metadata": {
    "collapsed": false
   },
   "outputs": [],
   "source": [
    "data = data.drop_duplicates()\n",
    "data.info()"
   ]
  },
  {
   "cell_type": "code",
   "execution_count": null,
   "metadata": {
    "collapsed": false
   },
   "outputs": [],
   "source": [
    "data_grouped = data.groupby(['Date']).size()\n",
    "data_grouped_dropped=data_grouped.drop(['2017-05-14', '2017-05-15'])\n",
    "unique_dates = data.Date.unique()\n",
    "tuple(unique_dates)"
   ]
  },
  {
   "cell_type": "code",
   "execution_count": null,
   "metadata": {
    "collapsed": false
   },
   "outputs": [],
   "source": [
    "\n",
    "dates = data_grouped_dropped.index.values\n",
    "counter_per_date = data_grouped_dropped.values\n",
    "unique_dates = unique_dates[2:]\n",
    "unique_dates"
   ]
  },
  {
   "cell_type": "code",
   "execution_count": null,
   "metadata": {
    "collapsed": false
   },
   "outputs": [],
   "source": [
    "ind = np.arange(len(unique_dates))\n",
    "width = 0.5       # the width of the bars\n",
    "fig, ax = plt.subplots()\n",
    "rects1 = ax.bar(ind, counter_per_date, width, color='b')\n",
    "\n",
    "ax.set_xticklabels(tuple(unique_dates),rotation='vertical')\n",
    "ax.set_ylabel('Ilość pomiarów')\n",
    "ax.set_title('Średnia ilość pomiarów w zależności od dnia tygodnia w okresie 14-29.05')\n",
    "ax.set_xticks(ind)\n",
    "plt.show()"
   ]
  },
  {
   "cell_type": "code",
   "execution_count": null,
   "metadata": {
    "collapsed": false
   },
   "outputs": [],
   "source": [
    "N = 7\n",
    "first_week = list(counter_per_date[0:6])\n",
    "first_week.append(counter_per_date[13])\n",
    "first_week = tuple(first_week)"
   ]
  },
  {
   "cell_type": "code",
   "execution_count": null,
   "metadata": {
    "collapsed": false
   },
   "outputs": [],
   "source": [
    "second_week = list(counter_per_date[6:13])\n",
    "second_week = tuple(second_week)"
   ]
  },
  {
   "cell_type": "code",
   "execution_count": null,
   "metadata": {
    "collapsed": false
   },
   "outputs": [],
   "source": [
    "                                   \n",
    "indx = np.arange(N)\n",
    "width = 0.35\n",
    "\n",
    "fig, ax = plt.subplots()\n",
    "rects1 = ax.bar(ind, first_week, width, color='r')\n",
    "\n",
    "\n",
    "rects2 = ax.bar(ind + width, second_week, width, color='y')\n",
    "\n",
    "# add some text for labels, title and axes ticks\n",
    "ax.set_ylabel('Scores')\n",
    "ax.set_title('Scores by group and gender')\n",
    "ax.set_xticks(ind + width / 2)\n",
    "ax.set_xticklabels(('Pn', 'Wt', 'Sr', 'Cz', 'Pt','Sb', 'Nd'))\n",
    "\n",
    "ax.legend((rects1[0], rects2[0]), ('1 tydzien', '2 tydzien'))\n",
    "\n",
    "\n",
    "def autolabel(rects):\n",
    "    \"\"\"\n",
    "    Attach a text label above each bar displaying its height\n",
    "    \"\"\"\n",
    "    for rect in rects:\n",
    "        height = rect.get_height()\n",
    "        ax.text(rect.get_x() + rect.get_width()/2., 1.05*height,\n",
    "                '%d' % int(height),\n",
    "                ha='center', va='bottom')\n",
    "\n",
    "#autolabel(rects1)\n",
    "#autolabel(rects2)\n",
    "\n",
    "plt.show()"
   ]
  },
  {
   "cell_type": "code",
   "execution_count": null,
   "metadata": {
    "collapsed": true
   },
   "outputs": [],
   "source": []
  }
 ],
 "metadata": {
  "kernelspec": {
   "display_name": "Python 3",
   "language": "python",
   "name": "python3"
  },
  "language_info": {
   "codemirror_mode": {
    "name": "ipython",
    "version": 3
   },
   "file_extension": ".py",
   "mimetype": "text/x-python",
   "name": "python",
   "nbconvert_exporter": "python",
   "pygments_lexer": "ipython3",
   "version": "3.6.0"
  }
 },
 "nbformat": 4,
 "nbformat_minor": 2
}
